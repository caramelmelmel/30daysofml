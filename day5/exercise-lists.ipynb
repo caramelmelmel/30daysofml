{
 "cells": [
  {
   "cell_type": "markdown",
   "id": "40d954d1",
   "metadata": {
    "papermill": {
     "duration": 0.011592,
     "end_time": "2021-08-05T03:22:47.897186",
     "exception": false,
     "start_time": "2021-08-05T03:22:47.885594",
     "status": "completed"
    },
    "tags": []
   },
   "source": [
    "**This notebook is an exercise in the [Python](https://www.kaggle.com/learn/python) course.  You can reference the tutorial at [this link](https://www.kaggle.com/colinmorris/lists).**\n",
    "\n",
    "---\n"
   ]
  },
  {
   "cell_type": "markdown",
   "id": "f8aff09b",
   "metadata": {
    "papermill": {
     "duration": 0.01004,
     "end_time": "2021-08-05T03:22:47.918058",
     "exception": false,
     "start_time": "2021-08-05T03:22:47.908018",
     "status": "completed"
    },
    "tags": []
   },
   "source": [
    "Things get more interesting with lists. You'll apply your new knowledge to solve the questions below. Remember to run the following cell first."
   ]
  },
  {
   "cell_type": "code",
   "execution_count": 1,
   "id": "ed516428",
   "metadata": {
    "execution": {
     "iopub.execute_input": "2021-08-05T03:22:47.948192Z",
     "iopub.status.busy": "2021-08-05T03:22:47.947452Z",
     "iopub.status.idle": "2021-08-05T03:22:48.073117Z",
     "shell.execute_reply": "2021-08-05T03:22:48.073526Z",
     "shell.execute_reply.started": "2021-08-05T02:57:25.549481Z"
    },
    "papermill": {
     "duration": 0.145444,
     "end_time": "2021-08-05T03:22:48.073801",
     "exception": false,
     "start_time": "2021-08-05T03:22:47.928357",
     "status": "completed"
    },
    "tags": []
   },
   "outputs": [
    {
     "name": "stdout",
     "output_type": "stream",
     "text": [
      "Setup complete.\n"
     ]
    }
   ],
   "source": [
    "from learntools.core import binder; binder.bind(globals())\n",
    "from learntools.python.ex4 import *\n",
    "print('Setup complete.')"
   ]
  },
  {
   "cell_type": "markdown",
   "id": "576b8451",
   "metadata": {
    "papermill": {
     "duration": 0.010283,
     "end_time": "2021-08-05T03:22:48.094994",
     "exception": false,
     "start_time": "2021-08-05T03:22:48.084711",
     "status": "completed"
    },
    "tags": []
   },
   "source": [
    "# 1.\n",
    "\n",
    "Complete the function below according to its docstring."
   ]
  },
  {
   "cell_type": "code",
   "execution_count": 2,
   "id": "5931d3bc",
   "metadata": {
    "execution": {
     "iopub.execute_input": "2021-08-05T03:22:48.123405Z",
     "iopub.status.busy": "2021-08-05T03:22:48.122743Z",
     "iopub.status.idle": "2021-08-05T03:22:48.128066Z",
     "shell.execute_reply": "2021-08-05T03:22:48.127648Z",
     "shell.execute_reply.started": "2021-08-05T02:59:12.203540Z"
    },
    "papermill": {
     "duration": 0.022655,
     "end_time": "2021-08-05T03:22:48.128211",
     "exception": false,
     "start_time": "2021-08-05T03:22:48.105556",
     "status": "completed"
    },
    "tags": []
   },
   "outputs": [
    {
     "data": {
      "application/javascript": [
       "parent.postMessage({\"jupyterEvent\": \"custom.exercise_interaction\", \"data\": {\"outcomeType\": 1, \"valueTowardsCompletion\": 0.2, \"interactionType\": 1, \"questionType\": 2, \"questionId\": \"1_SelectSecondItem\", \"learnToolsVersion\": \"0.3.4\", \"failureMessage\": \"\", \"exceptionClass\": \"\", \"trace\": \"\"}}, \"*\")"
      ],
      "text/plain": [
       "<IPython.core.display.Javascript object>"
      ]
     },
     "metadata": {},
     "output_type": "display_data"
    },
    {
     "data": {
      "text/markdown": [
       "<span style=\"color:#33cc33\">Correct</span>"
      ],
      "text/plain": [
       "Correct"
      ]
     },
     "metadata": {},
     "output_type": "display_data"
    }
   ],
   "source": [
    "def select_second(L):\n",
    "    \"\"\"Return the second element of the given list. If the list has no second\n",
    "    element, return None.\n",
    "    \"\"\"\n",
    "    if len(L) < 2:\n",
    "        return None \n",
    "    else:\n",
    "        return L[1]\n",
    "\n",
    "# Check your answer\n",
    "q1.check()"
   ]
  },
  {
   "cell_type": "code",
   "execution_count": 3,
   "id": "12b1d4db",
   "metadata": {
    "collapsed": true,
    "execution": {
     "iopub.execute_input": "2021-08-05T03:22:48.154801Z",
     "iopub.status.busy": "2021-08-05T03:22:48.154230Z",
     "iopub.status.idle": "2021-08-05T03:22:48.157009Z",
     "shell.execute_reply": "2021-08-05T03:22:48.156443Z"
    },
    "jupyter": {
     "outputs_hidden": true
    },
    "papermill": {
     "duration": 0.017648,
     "end_time": "2021-08-05T03:22:48.157162",
     "exception": false,
     "start_time": "2021-08-05T03:22:48.139514",
     "status": "completed"
    },
    "tags": []
   },
   "outputs": [],
   "source": [
    "#q1.hint()\n",
    "#q1.solution()"
   ]
  },
  {
   "cell_type": "markdown",
   "id": "e66eb7f7",
   "metadata": {
    "papermill": {
     "duration": 0.011226,
     "end_time": "2021-08-05T03:22:48.180248",
     "exception": false,
     "start_time": "2021-08-05T03:22:48.169022",
     "status": "completed"
    },
    "tags": []
   },
   "source": [
    "# 2.\n",
    "\n",
    "You are analyzing sports teams.  Members of each team are stored in a list. The Coach is the first name in the list, the captain is the second name in the list, and other players are listed after that. \n",
    "These lists are stored in another list, which starts with the best team and proceeds through the list to the worst team last.  Complete the function below to select the **captain** of the worst team."
   ]
  },
  {
   "cell_type": "code",
   "execution_count": 4,
   "id": "4dd820a3",
   "metadata": {
    "execution": {
     "iopub.execute_input": "2021-08-05T03:22:48.208054Z",
     "iopub.status.busy": "2021-08-05T03:22:48.207480Z",
     "iopub.status.idle": "2021-08-05T03:22:48.212900Z",
     "shell.execute_reply": "2021-08-05T03:22:48.212440Z",
     "shell.execute_reply.started": "2021-08-05T03:02:10.602149Z"
    },
    "papermill": {
     "duration": 0.021255,
     "end_time": "2021-08-05T03:22:48.213028",
     "exception": false,
     "start_time": "2021-08-05T03:22:48.191773",
     "status": "completed"
    },
    "tags": []
   },
   "outputs": [
    {
     "data": {
      "application/javascript": [
       "parent.postMessage({\"jupyterEvent\": \"custom.exercise_interaction\", \"data\": {\"outcomeType\": 1, \"valueTowardsCompletion\": 0.2, \"interactionType\": 1, \"questionType\": 2, \"questionId\": \"2_LosingTeamCaptain\", \"learnToolsVersion\": \"0.3.4\", \"failureMessage\": \"\", \"exceptionClass\": \"\", \"trace\": \"\"}}, \"*\")"
      ],
      "text/plain": [
       "<IPython.core.display.Javascript object>"
      ]
     },
     "metadata": {},
     "output_type": "display_data"
    },
    {
     "data": {
      "text/markdown": [
       "<span style=\"color:#33cc33\">Correct</span>"
      ],
      "text/plain": [
       "Correct"
      ]
     },
     "metadata": {},
     "output_type": "display_data"
    }
   ],
   "source": [
    "def losing_team_captain(teams):\n",
    "    \"\"\"Given a list of teams, where each team is a list of names, return the 2nd player (captain)\n",
    "    from the last listed team\n",
    "    \"\"\"\n",
    "    return teams[len(teams)-1][1]\n",
    "\n",
    "# Check your answer\n",
    "q2.check()"
   ]
  },
  {
   "cell_type": "code",
   "execution_count": 5,
   "id": "1c0bd780",
   "metadata": {
    "collapsed": true,
    "execution": {
     "iopub.execute_input": "2021-08-05T03:22:48.240930Z",
     "iopub.status.busy": "2021-08-05T03:22:48.240378Z",
     "iopub.status.idle": "2021-08-05T03:22:48.243209Z",
     "shell.execute_reply": "2021-08-05T03:22:48.242751Z"
    },
    "jupyter": {
     "outputs_hidden": true
    },
    "papermill": {
     "duration": 0.018051,
     "end_time": "2021-08-05T03:22:48.243343",
     "exception": false,
     "start_time": "2021-08-05T03:22:48.225292",
     "status": "completed"
    },
    "tags": []
   },
   "outputs": [],
   "source": [
    "#q2.hint()\n",
    "#q2.solution()"
   ]
  },
  {
   "cell_type": "markdown",
   "id": "adf9e9f1",
   "metadata": {
    "papermill": {
     "duration": 0.012495,
     "end_time": "2021-08-05T03:22:48.268413",
     "exception": false,
     "start_time": "2021-08-05T03:22:48.255918",
     "status": "completed"
    },
    "tags": []
   },
   "source": [
    "# 3.\n",
    "\n",
    "The next iteration of Mario Kart will feature an extra-infuriating new item, the *Purple Shell*. When used, it warps the last place racer into first place and the first place racer into last place. Complete the function below to implement the Purple Shell's effect."
   ]
  },
  {
   "cell_type": "code",
   "execution_count": 6,
   "id": "a44b162c",
   "metadata": {
    "execution": {
     "iopub.execute_input": "2021-08-05T03:22:48.298982Z",
     "iopub.status.busy": "2021-08-05T03:22:48.298386Z",
     "iopub.status.idle": "2021-08-05T03:22:48.301942Z",
     "shell.execute_reply": "2021-08-05T03:22:48.302382Z",
     "shell.execute_reply.started": "2021-08-05T03:06:33.076669Z"
    },
    "papermill": {
     "duration": 0.021581,
     "end_time": "2021-08-05T03:22:48.302540",
     "exception": false,
     "start_time": "2021-08-05T03:22:48.280959",
     "status": "completed"
    },
    "tags": []
   },
   "outputs": [
    {
     "data": {
      "application/javascript": [
       "parent.postMessage({\"jupyterEvent\": \"custom.exercise_interaction\", \"data\": {\"outcomeType\": 1, \"valueTowardsCompletion\": 0.2, \"interactionType\": 1, \"questionType\": 2, \"questionId\": \"3_PurpleShell\", \"learnToolsVersion\": \"0.3.4\", \"failureMessage\": \"\", \"exceptionClass\": \"\", \"trace\": \"\"}}, \"*\")"
      ],
      "text/plain": [
       "<IPython.core.display.Javascript object>"
      ]
     },
     "metadata": {},
     "output_type": "display_data"
    },
    {
     "data": {
      "text/markdown": [
       "<span style=\"color:#33cc33\">Correct</span>"
      ],
      "text/plain": [
       "Correct"
      ]
     },
     "metadata": {},
     "output_type": "display_data"
    }
   ],
   "source": [
    "def purple_shell(racers):\n",
    "    \"\"\"Given a list of racers, set the first place racer (at the front of the list) to last\n",
    "    place and vice versa.\n",
    "    \n",
    "    >>> r = [\"Mario\", \"Bowser\", \"Luigi\"]\n",
    "    >>> purple_shell(r)\n",
    "    >>> r\n",
    "    [\"Luigi\", \"Bowser\", \"Mario\"]\n",
    "    \"\"\"\n",
    "    first_place = racers[len(racers)-1]\n",
    "    last_place = racers[0]\n",
    "    racers[0] = first_place\n",
    "    racers[len(racers)-1] = last_place\n",
    "    \n",
    "\n",
    "# Check your answer\n",
    "q3.check()"
   ]
  },
  {
   "cell_type": "code",
   "execution_count": 7,
   "id": "b32e3a6f",
   "metadata": {
    "collapsed": true,
    "execution": {
     "iopub.execute_input": "2021-08-05T03:22:48.331406Z",
     "iopub.status.busy": "2021-08-05T03:22:48.330827Z",
     "iopub.status.idle": "2021-08-05T03:22:48.333491Z",
     "shell.execute_reply": "2021-08-05T03:22:48.333925Z"
    },
    "jupyter": {
     "outputs_hidden": true
    },
    "papermill": {
     "duration": 0.018433,
     "end_time": "2021-08-05T03:22:48.334097",
     "exception": false,
     "start_time": "2021-08-05T03:22:48.315664",
     "status": "completed"
    },
    "tags": []
   },
   "outputs": [],
   "source": [
    "#q3.hint()\n",
    "#q3.solution()"
   ]
  },
  {
   "cell_type": "markdown",
   "id": "f21efe54",
   "metadata": {
    "papermill": {
     "duration": 0.013434,
     "end_time": "2021-08-05T03:22:48.360910",
     "exception": false,
     "start_time": "2021-08-05T03:22:48.347476",
     "status": "completed"
    },
    "tags": []
   },
   "source": [
    "# 4.\n",
    "\n",
    "What are the lengths of the following lists? Fill in the variable `lengths` with your predictions. (Try to make a prediction for each list *without* just calling `len()` on it.)"
   ]
  },
  {
   "cell_type": "code",
   "execution_count": 8,
   "id": "fddaa8f7",
   "metadata": {
    "execution": {
     "iopub.execute_input": "2021-08-05T03:22:48.390034Z",
     "iopub.status.busy": "2021-08-05T03:22:48.389486Z",
     "iopub.status.idle": "2021-08-05T03:22:48.397033Z",
     "shell.execute_reply": "2021-08-05T03:22:48.396578Z",
     "shell.execute_reply.started": "2021-08-05T03:08:55.787021Z"
    },
    "papermill": {
     "duration": 0.022734,
     "end_time": "2021-08-05T03:22:48.397189",
     "exception": false,
     "start_time": "2021-08-05T03:22:48.374455",
     "status": "completed"
    },
    "tags": []
   },
   "outputs": [
    {
     "data": {
      "application/javascript": [
       "parent.postMessage({\"jupyterEvent\": \"custom.exercise_interaction\", \"data\": {\"outcomeType\": 1, \"valueTowardsCompletion\": 0.2, \"interactionType\": 1, \"questionType\": 1, \"questionId\": \"4_UnderstandLen\", \"learnToolsVersion\": \"0.3.4\", \"failureMessage\": \"\", \"exceptionClass\": \"\", \"trace\": \"\"}}, \"*\")"
      ],
      "text/plain": [
       "<IPython.core.display.Javascript object>"
      ]
     },
     "metadata": {},
     "output_type": "display_data"
    },
    {
     "data": {
      "text/markdown": [
       "<span style=\"color:#33cc33\">Correct:</span> \n",
       "\n",
       "\n",
       "- a: There are three items in this list. Nothing tricky yet.\n",
       "- b: The list `[2, 3]` counts as a single item. It has one item before it. So we have 2 items in the list\n",
       "- c: The empty list has 0 items\n",
       "- d: The expression is the same as the list `[2, 3]`, which has length 2."
      ],
      "text/plain": [
       "Correct: \n",
       "\n",
       "\n",
       "- a: There are three items in this list. Nothing tricky yet.\n",
       "- b: The list `[2, 3]` counts as a single item. It has one item before it. So we have 2 items in the list\n",
       "- c: The empty list has 0 items\n",
       "- d: The expression is the same as the list `[2, 3]`, which has length 2."
      ]
     },
     "metadata": {},
     "output_type": "display_data"
    }
   ],
   "source": [
    "a = [1, 2, 3]\n",
    "b = [1, [2, 3]]\n",
    "c = []\n",
    "d = [1, 2, 3][1:]\n",
    "\n",
    "# Put your predictions in the list below. Lengths should contain 4 numbers, the\n",
    "# first being the length of a, the second being the length of b and so on.\n",
    "lengths = [3,2,0,2]\n",
    "\n",
    "# Check your answer\n",
    "q4.check()"
   ]
  },
  {
   "cell_type": "code",
   "execution_count": 9,
   "id": "187a0cc4",
   "metadata": {
    "execution": {
     "iopub.execute_input": "2021-08-05T03:22:48.429519Z",
     "iopub.status.busy": "2021-08-05T03:22:48.428906Z",
     "iopub.status.idle": "2021-08-05T03:22:48.433310Z",
     "shell.execute_reply": "2021-08-05T03:22:48.432877Z",
     "shell.execute_reply.started": "2021-08-05T03:08:32.473907Z"
    },
    "papermill": {
     "duration": 0.022267,
     "end_time": "2021-08-05T03:22:48.433439",
     "exception": false,
     "start_time": "2021-08-05T03:22:48.411172",
     "status": "completed"
    },
    "tags": []
   },
   "outputs": [
    {
     "data": {
      "application/javascript": [
       "parent.postMessage({\"jupyterEvent\": \"custom.exercise_interaction\", \"data\": {\"interactionType\": 3, \"questionType\": 1, \"questionId\": \"4_UnderstandLen\", \"learnToolsVersion\": \"0.3.4\", \"valueTowardsCompletion\": 0.0, \"failureMessage\": \"\", \"exceptionClass\": \"\", \"trace\": \"\", \"outcomeType\": 4}}, \"*\")"
      ],
      "text/plain": [
       "<IPython.core.display.Javascript object>"
      ]
     },
     "metadata": {},
     "output_type": "display_data"
    },
    {
     "data": {
      "text/markdown": [
       "<span style=\"color:#33cc99\">Solution:</span> \n",
       "- a: There are three items in this list. Nothing tricky yet.\n",
       "- b: The list `[2, 3]` counts as a single item. It has one item before it. So we have 2 items in the list\n",
       "- c: The empty list has 0 items\n",
       "- d: The expression is the same as the list `[2, 3]`, which has length 2."
      ],
      "text/plain": [
       "Solution: \n",
       "- a: There are three items in this list. Nothing tricky yet.\n",
       "- b: The list `[2, 3]` counts as a single item. It has one item before it. So we have 2 items in the list\n",
       "- c: The empty list has 0 items\n",
       "- d: The expression is the same as the list `[2, 3]`, which has length 2."
      ]
     },
     "metadata": {},
     "output_type": "display_data"
    }
   ],
   "source": [
    "# line below provides some explanation\n",
    "q4.solution()"
   ]
  },
  {
   "cell_type": "markdown",
   "id": "7db922a4",
   "metadata": {
    "papermill": {
     "duration": 0.01444,
     "end_time": "2021-08-05T03:22:48.462568",
     "exception": false,
     "start_time": "2021-08-05T03:22:48.448128",
     "status": "completed"
    },
    "tags": []
   },
   "source": [
    "# 5. <span title=\"A bit spicy\" style=\"color: darkgreen \">🌶️</span>\n",
    "\n",
    "We're using lists to record people who attended our party and what order they arrived in. For example, the following list represents a party with 7 guests, in which Adela showed up first and Ford was the last to arrive:\n",
    "\n",
    "    party_attendees = ['Adela', 'Fleda', 'Owen', 'May', 'Mona', 'Gilbert', 'Ford']\n",
    "\n",
    "A guest is considered 'fashionably late' if they arrived after at least half of the party's guests. However, they must not be the very last guest (that's taking it too far). In the above example, Mona and Gilbert are the only guests who were fashionably late.\n",
    "\n",
    "Complete the function below which takes a list of party attendees as well as a person, and tells us whether that person is fashionably late."
   ]
  },
  {
   "cell_type": "code",
   "execution_count": 10,
   "id": "60c436d7",
   "metadata": {
    "execution": {
     "iopub.execute_input": "2021-08-05T03:22:48.497350Z",
     "iopub.status.busy": "2021-08-05T03:22:48.496659Z",
     "iopub.status.idle": "2021-08-05T03:22:48.500353Z",
     "shell.execute_reply": "2021-08-05T03:22:48.500799Z",
     "shell.execute_reply.started": "2021-08-05T03:22:11.782123Z"
    },
    "papermill": {
     "duration": 0.023789,
     "end_time": "2021-08-05T03:22:48.500972",
     "exception": false,
     "start_time": "2021-08-05T03:22:48.477183",
     "status": "completed"
    },
    "tags": []
   },
   "outputs": [
    {
     "data": {
      "application/javascript": [
       "parent.postMessage({\"jupyterEvent\": \"custom.exercise_interaction\", \"data\": {\"outcomeType\": 1, \"valueTowardsCompletion\": 0.2, \"interactionType\": 1, \"questionType\": 2, \"questionId\": \"5_FashionablyLate\", \"learnToolsVersion\": \"0.3.4\", \"failureMessage\": \"\", \"exceptionClass\": \"\", \"trace\": \"\"}}, \"*\")"
      ],
      "text/plain": [
       "<IPython.core.display.Javascript object>"
      ]
     },
     "metadata": {},
     "output_type": "display_data"
    },
    {
     "data": {
      "text/markdown": [
       "<span style=\"color:#33cc33\">Correct</span>"
      ],
      "text/plain": [
       "Correct"
      ]
     },
     "metadata": {},
     "output_type": "display_data"
    }
   ],
   "source": [
    "def fashionably_late(arrivals, name):\n",
    "    \"\"\"Given an ordered list of arrivals to the party and a name, return whether the guest with that\n",
    "    name was fashionably late.\n",
    "    \"\"\"\n",
    "    order = arrivals.index(name)\n",
    "    return order >= len(arrivals) / 2 and order != len(arrivals) - 1\n",
    "\n",
    "# Check your answer\n",
    "q5.check()"
   ]
  },
  {
   "cell_type": "code",
   "execution_count": 11,
   "id": "fe26d5ce",
   "metadata": {
    "execution": {
     "iopub.execute_input": "2021-08-05T03:22:48.535247Z",
     "iopub.status.busy": "2021-08-05T03:22:48.534674Z",
     "iopub.status.idle": "2021-08-05T03:22:48.539998Z",
     "shell.execute_reply": "2021-08-05T03:22:48.540454Z",
     "shell.execute_reply.started": "2021-08-05T03:18:31.487968Z"
    },
    "papermill": {
     "duration": 0.023926,
     "end_time": "2021-08-05T03:22:48.540609",
     "exception": false,
     "start_time": "2021-08-05T03:22:48.516683",
     "status": "completed"
    },
    "tags": []
   },
   "outputs": [
    {
     "data": {
      "application/javascript": [
       "parent.postMessage({\"jupyterEvent\": \"custom.exercise_interaction\", \"data\": {\"interactionType\": 3, \"questionType\": 2, \"questionId\": \"5_FashionablyLate\", \"learnToolsVersion\": \"0.3.4\", \"valueTowardsCompletion\": 0.0, \"failureMessage\": \"\", \"exceptionClass\": \"\", \"trace\": \"\", \"outcomeType\": 4}}, \"*\")"
      ],
      "text/plain": [
       "<IPython.core.display.Javascript object>"
      ]
     },
     "metadata": {},
     "output_type": "display_data"
    },
    {
     "data": {
      "text/markdown": [
       "<span style=\"color:#33cc99\">Solution:</span> \n",
       "```python\n",
       "def fashionably_late(arrivals, name):\n",
       "    order = arrivals.index(name)\n",
       "    return order >= len(arrivals) / 2 and order != len(arrivals) - 1\n",
       "```"
      ],
      "text/plain": [
       "Solution: \n",
       "```python\n",
       "def fashionably_late(arrivals, name):\n",
       "    order = arrivals.index(name)\n",
       "    return order >= len(arrivals) / 2 and order != len(arrivals) - 1\n",
       "```"
      ]
     },
     "metadata": {},
     "output_type": "display_data"
    }
   ],
   "source": [
    "#q5.hint()\n",
    "q5.solution()"
   ]
  },
  {
   "cell_type": "markdown",
   "id": "aed8a04b",
   "metadata": {
    "papermill": {
     "duration": 0.015746,
     "end_time": "2021-08-05T03:22:48.572616",
     "exception": false,
     "start_time": "2021-08-05T03:22:48.556870",
     "status": "completed"
    },
    "tags": []
   },
   "source": [
    "# Keep Going\n",
    "\n",
    "That's it for lists and tuples! Now you have the baseline knowledge to **[learn about loops](https://www.kaggle.com/colinmorris/loops-and-list-comprehensions)**, which is where lists and tuples get really interesting. "
   ]
  },
  {
   "cell_type": "markdown",
   "id": "f7743b45",
   "metadata": {
    "papermill": {
     "duration": 0.015794,
     "end_time": "2021-08-05T03:22:48.605569",
     "exception": false,
     "start_time": "2021-08-05T03:22:48.589775",
     "status": "completed"
    },
    "tags": []
   },
   "source": [
    "---\n",
    "\n",
    "\n",
    "\n",
    "\n",
    "*Have questions or comments? Visit the [Learn Discussion forum](https://www.kaggle.com/learn-forum/161283) to chat with other Learners.*"
   ]
  }
 ],
 "metadata": {
  "kernelspec": {
   "display_name": "Python 3",
   "language": "python",
   "name": "python3"
  },
  "language_info": {
   "codemirror_mode": {
    "name": "ipython",
    "version": 3
   },
   "file_extension": ".py",
   "mimetype": "text/x-python",
   "name": "python",
   "nbconvert_exporter": "python",
   "pygments_lexer": "ipython3",
   "version": "3.7.10"
  },
  "papermill": {
   "default_parameters": {},
   "duration": 8.694618,
   "end_time": "2021-08-05T03:22:49.230024",
   "environment_variables": {},
   "exception": null,
   "input_path": "__notebook__.ipynb",
   "output_path": "__notebook__.ipynb",
   "parameters": {},
   "start_time": "2021-08-05T03:22:40.535406",
   "version": "2.3.3"
  }
 },
 "nbformat": 4,
 "nbformat_minor": 5
}
