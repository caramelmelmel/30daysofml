{
 "cells": [
  {
   "cell_type": "markdown",
   "id": "8db62ae0",
   "metadata": {
    "papermill": {
     "duration": 0.016877,
     "end_time": "2021-08-04T00:42:28.306375",
     "exception": false,
     "start_time": "2021-08-04T00:42:28.289498",
     "status": "completed"
    },
    "tags": []
   },
   "source": [
    "**This notebook is an exercise in the [Python](https://www.kaggle.com/learn/python) course.  You can reference the tutorial at [this link](https://www.kaggle.com/colinmorris/hello-python).**\n",
    "\n",
    "---\n"
   ]
  },
  {
   "cell_type": "markdown",
   "id": "08038a88",
   "metadata": {
    "papermill": {
     "duration": 0.0157,
     "end_time": "2021-08-04T00:42:28.338393",
     "exception": false,
     "start_time": "2021-08-04T00:42:28.322693",
     "status": "completed"
    },
    "tags": []
   },
   "source": [
    "Welcome to your first set of Python coding problems.  If this is your first time using Kaggle Notebooks, welcome! \n",
    "\n",
    "Notebooks are composed of blocks (called \"cells\") of text and code. Each of these is editable, though you'll mainly be editing the code cells to answer some questions.\n",
    "\n",
    "To get started, try running the code cell below (by pressing the ► button, or clicking on the cell and pressing ctrl+enter on your keyboard)."
   ]
  },
  {
   "cell_type": "code",
   "execution_count": null,
   "id": "765c26c8",
   "metadata": {
    "papermill": {
     "duration": 0.015323,
     "end_time": "2021-08-04T00:42:28.369512",
     "exception": false,
     "start_time": "2021-08-04T00:42:28.354189",
     "status": "completed"
    },
    "tags": []
   },
   "outputs": [],
   "source": []
  },
  {
   "cell_type": "code",
   "execution_count": 1,
   "id": "40f48837",
   "metadata": {
    "execution": {
     "iopub.execute_input": "2021-08-04T00:42:28.411064Z",
     "iopub.status.busy": "2021-08-04T00:42:28.410324Z",
     "iopub.status.idle": "2021-08-04T00:42:28.414566Z",
     "shell.execute_reply": "2021-08-04T00:42:28.413869Z",
     "shell.execute_reply.started": "2021-08-04T00:24:05.251889Z"
    },
    "papermill": {
     "duration": 0.029547,
     "end_time": "2021-08-04T00:42:28.414727",
     "exception": false,
     "start_time": "2021-08-04T00:42:28.385180",
     "status": "completed"
    },
    "tags": []
   },
   "outputs": [
    {
     "name": "stdout",
     "output_type": "stream",
     "text": [
      "You've successfully run some Python code\n",
      "Congratulations!\n",
      "hello world\n"
     ]
    }
   ],
   "source": [
    "print(\"You've successfully run some Python code\")\n",
    "print(\"Congratulations!\")\n",
    "print(\"hello world\")"
   ]
  },
  {
   "cell_type": "code",
   "execution_count": null,
   "id": "10ac6d8d",
   "metadata": {
    "papermill": {
     "duration": 0.016054,
     "end_time": "2021-08-04T00:42:28.447314",
     "exception": false,
     "start_time": "2021-08-04T00:42:28.431260",
     "status": "completed"
    },
    "tags": []
   },
   "outputs": [],
   "source": []
  },
  {
   "cell_type": "markdown",
   "id": "fe1d82e1",
   "metadata": {
    "papermill": {
     "duration": 0.01584,
     "end_time": "2021-08-04T00:42:28.479332",
     "exception": false,
     "start_time": "2021-08-04T00:42:28.463492",
     "status": "completed"
    },
    "tags": []
   },
   "source": [
    "Try adding another line of code in the cell above and re-running it. \n",
    "\n",
    "Now let's get a little fancier:  Add a new code cell by clicking on an existing code cell, hitting the escape key, and then hitting the `a` or `b` key.  The `a` key will add a cell above the current cell, and `b` adds a cell below.\n",
    "\n",
    "Great! Now you know how to use Notebooks.\n",
    "\n",
    "Each hands-on exercise starts by setting up our feedback and code checking mechanism. Run the code cell below to do that. Then you'll be ready to move on to question 0."
   ]
  },
  {
   "cell_type": "code",
   "execution_count": 2,
   "id": "4459ed1c",
   "metadata": {
    "_kg_hide-input": true,
    "_kg_hide-output": true,
    "execution": {
     "iopub.execute_input": "2021-08-04T00:42:28.516496Z",
     "iopub.status.busy": "2021-08-04T00:42:28.515812Z",
     "iopub.status.idle": "2021-08-04T00:42:28.637777Z",
     "shell.execute_reply": "2021-08-04T00:42:28.638316Z",
     "shell.execute_reply.started": "2021-08-04T00:31:40.595857Z"
    },
    "papermill": {
     "duration": 0.142807,
     "end_time": "2021-08-04T00:42:28.638490",
     "exception": false,
     "start_time": "2021-08-04T00:42:28.495683",
     "status": "completed"
    },
    "tags": []
   },
   "outputs": [
    {
     "name": "stdout",
     "output_type": "stream",
     "text": [
      "Setup complete! You're ready to start question 0.\n"
     ]
    }
   ],
   "source": [
    "from learntools.core import binder; binder.bind(globals())\n",
    "from learntools.python.ex1 import *\n",
    "print(\"Setup complete! You're ready to start question 0.\")"
   ]
  },
  {
   "cell_type": "markdown",
   "id": "2f32225f",
   "metadata": {
    "papermill": {
     "duration": 0.016083,
     "end_time": "2021-08-04T00:42:28.672336",
     "exception": false,
     "start_time": "2021-08-04T00:42:28.656253",
     "status": "completed"
    },
    "tags": []
   },
   "source": [
    "# 0.\n",
    "\n",
    "*This is a silly question intended as an introduction to the format we use for hands-on exercises throughout all Kaggle courses.*\n",
    "\n",
    "**What is your favorite color? **\n",
    "\n",
    "To complete this question, create a variable called `color` in the cell below with an appropriate value. The function call `q0.check()` (which we've already provided in the cell below) will check your answer."
   ]
  },
  {
   "cell_type": "code",
   "execution_count": 3,
   "id": "34e15bc0",
   "metadata": {
    "execution": {
     "iopub.execute_input": "2021-08-04T00:42:28.712461Z",
     "iopub.status.busy": "2021-08-04T00:42:28.711519Z",
     "iopub.status.idle": "2021-08-04T00:42:28.717754Z",
     "shell.execute_reply": "2021-08-04T00:42:28.717316Z",
     "shell.execute_reply.started": "2021-08-04T00:31:58.614190Z"
    },
    "papermill": {
     "duration": 0.029183,
     "end_time": "2021-08-04T00:42:28.717895",
     "exception": false,
     "start_time": "2021-08-04T00:42:28.688712",
     "status": "completed"
    },
    "tags": []
   },
   "outputs": [
    {
     "data": {
      "application/javascript": [
       "parent.postMessage({\"jupyterEvent\": \"custom.exercise_interaction\", \"data\": {\"outcomeType\": 1, \"valueTowardsCompletion\": 0.25, \"interactionType\": 1, \"questionType\": 2, \"questionId\": \"0_ExerciseFormatTutorial\", \"learnToolsVersion\": \"0.3.4\", \"failureMessage\": \"\", \"exceptionClass\": \"\", \"trace\": \"\"}}, \"*\")"
      ],
      "text/plain": [
       "<IPython.core.display.Javascript object>"
      ]
     },
     "metadata": {},
     "output_type": "display_data"
    },
    {
     "data": {
      "text/markdown": [
       "<span style=\"color:#33cc33\">Correct:</span> What?! You got it right without needing a hint or anything? Drats. Well hey, you should still continue to the next step to get some practice asking for a hint and checking solutions. (Even though you obviously don't need any help here.)"
      ],
      "text/plain": [
       "Correct: What?! You got it right without needing a hint or anything? Drats. Well hey, you should still continue to the next step to get some practice asking for a hint and checking solutions. (Even though you obviously don't need any help here.)"
      ]
     },
     "metadata": {},
     "output_type": "display_data"
    }
   ],
   "source": [
    "# create a variable called color with an appropriate value on the line below\n",
    "# (Remember, strings in Python must be enclosed in 'single' or \"double\" quotes)\n",
    "color = 'blue'\n",
    "# Check your answer\n",
    "q0.check()"
   ]
  },
  {
   "cell_type": "markdown",
   "id": "b4abfd72",
   "metadata": {
    "papermill": {
     "duration": 0.016766,
     "end_time": "2021-08-04T00:42:28.751972",
     "exception": false,
     "start_time": "2021-08-04T00:42:28.735206",
     "status": "completed"
    },
    "tags": []
   },
   "source": [
    "Didn't get the right answer? How do you not even know your own favorite color?!\n",
    "\n",
    "Delete the `#` in the line below to make one of the lines run. You can choose between getting a hint or the full answer by choosing which line to remove the `#` from. \n",
    "\n",
    "Removing the `#` is called uncommenting, because it changes that line from a \"comment\" which Python doesn't run to code, which Python does run."
   ]
  },
  {
   "cell_type": "code",
   "execution_count": 4,
   "id": "b0e22fa5",
   "metadata": {
    "execution": {
     "iopub.execute_input": "2021-08-04T00:42:28.792231Z",
     "iopub.status.busy": "2021-08-04T00:42:28.791550Z",
     "iopub.status.idle": "2021-08-04T00:42:28.798752Z",
     "shell.execute_reply": "2021-08-04T00:42:28.798292Z",
     "shell.execute_reply.started": "2021-08-04T00:32:02.517381Z"
    },
    "papermill": {
     "duration": 0.028844,
     "end_time": "2021-08-04T00:42:28.798890",
     "exception": false,
     "start_time": "2021-08-04T00:42:28.770046",
     "status": "completed"
    },
    "tags": []
   },
   "outputs": [
    {
     "data": {
      "application/javascript": [
       "parent.postMessage({\"jupyterEvent\": \"custom.exercise_interaction\", \"data\": {\"interactionType\": 2, \"questionType\": 2, \"questionId\": \"0_ExerciseFormatTutorial\", \"learnToolsVersion\": \"0.3.4\", \"valueTowardsCompletion\": 0.0, \"failureMessage\": \"\", \"exceptionClass\": \"\", \"trace\": \"\", \"outcomeType\": 4}}, \"*\")"
      ],
      "text/plain": [
       "<IPython.core.display.Javascript object>"
      ]
     },
     "metadata": {},
     "output_type": "display_data"
    },
    {
     "data": {
      "text/markdown": [
       "<span style=\"color:#3366cc\">Hint:</span> Your favorite color rhymes with *glue*."
      ],
      "text/plain": [
       "Hint: Your favorite color rhymes with *glue*."
      ]
     },
     "metadata": {},
     "output_type": "display_data"
    },
    {
     "data": {
      "application/javascript": [
       "parent.postMessage({\"jupyterEvent\": \"custom.exercise_interaction\", \"data\": {\"interactionType\": 3, \"questionType\": 2, \"questionId\": \"0_ExerciseFormatTutorial\", \"learnToolsVersion\": \"0.3.4\", \"valueTowardsCompletion\": 0.0, \"failureMessage\": \"\", \"exceptionClass\": \"\", \"trace\": \"\", \"outcomeType\": 4}}, \"*\")"
      ],
      "text/plain": [
       "<IPython.core.display.Javascript object>"
      ]
     },
     "metadata": {},
     "output_type": "display_data"
    },
    {
     "data": {
      "text/markdown": [
       "<span style=\"color:#33cc99\">Solution:</span> \n",
       "```python\n",
       "color = \"blue\"\n",
       "```"
      ],
      "text/plain": [
       "Solution: \n",
       "```python\n",
       "color = \"blue\"\n",
       "```"
      ]
     },
     "metadata": {},
     "output_type": "display_data"
    }
   ],
   "source": [
    "q0.hint()\n",
    "q0.solution()"
   ]
  },
  {
   "cell_type": "markdown",
   "id": "02a364d7",
   "metadata": {
    "papermill": {
     "duration": 0.018414,
     "end_time": "2021-08-04T00:42:28.835973",
     "exception": false,
     "start_time": "2021-08-04T00:42:28.817559",
     "status": "completed"
    },
    "tags": []
   },
   "source": [
    "The upcoming questions work the same way. The only thing that will change are the question numbers. For the next question, you'll call `q1.check()`, `q1.hint()`, `q1.solution()`, for question 2, you'll call `q2.check()`, and so on."
   ]
  },
  {
   "cell_type": "markdown",
   "id": "3dbce6bc",
   "metadata": {
    "papermill": {
     "duration": 0.018443,
     "end_time": "2021-08-04T00:42:28.873034",
     "exception": false,
     "start_time": "2021-08-04T00:42:28.854591",
     "status": "completed"
    },
    "tags": []
   },
   "source": [
    "<hr/>\n",
    "\n",
    "# 1.\n",
    "\n",
    "Complete the code below. In case it's helpful, here is the table of available arithmetic operations:\n",
    "\n",
    "\n",
    "\n",
    "| Operator     | Name           | Description                                            |\n",
    "|--------------|----------------|--------------------------------------------------------|\n",
    "| ``a + b``    | Addition       | Sum of ``a`` and ``b``                                 |\n",
    "| ``a - b``    | Subtraction    | Difference of ``a`` and ``b``                          |\n",
    "| ``a * b``    | Multiplication | Product of ``a`` and ``b``                             |\n",
    "| ``a / b``    | True division  | Quotient of ``a`` and ``b``                            |\n",
    "| ``a // b``   | Floor division | Quotient of ``a`` and ``b``, removing fractional parts |\n",
    "| ``a % b``    | Modulus        | Integer remainder after division of ``a`` by ``b``     |\n",
    "| ``a ** b``   | Exponentiation | ``a`` raised to the power of ``b``                     |\n",
    "| ``-a``       | Negation       | The negative of ``a``                                  |\n",
    "\n",
    "<span style=\"display:none\"></span>\n"
   ]
  },
  {
   "cell_type": "code",
   "execution_count": 5,
   "id": "88ddb8ce",
   "metadata": {
    "execution": {
     "iopub.execute_input": "2021-08-04T00:42:28.913934Z",
     "iopub.status.busy": "2021-08-04T00:42:28.913354Z",
     "iopub.status.idle": "2021-08-04T00:42:28.919315Z",
     "shell.execute_reply": "2021-08-04T00:42:28.919702Z",
     "shell.execute_reply.started": "2021-08-04T00:33:04.367699Z"
    },
    "papermill": {
     "duration": 0.027498,
     "end_time": "2021-08-04T00:42:28.919874",
     "exception": false,
     "start_time": "2021-08-04T00:42:28.892376",
     "status": "completed"
    },
    "tags": []
   },
   "outputs": [
    {
     "data": {
      "application/javascript": [
       "parent.postMessage({\"jupyterEvent\": \"custom.exercise_interaction\", \"data\": {\"outcomeType\": 1, \"valueTowardsCompletion\": 0.25, \"interactionType\": 1, \"questionType\": 1, \"questionId\": \"1_CircleArea\", \"learnToolsVersion\": \"0.3.4\", \"failureMessage\": \"\", \"exceptionClass\": \"\", \"trace\": \"\"}}, \"*\")"
      ],
      "text/plain": [
       "<IPython.core.display.Javascript object>"
      ]
     },
     "metadata": {},
     "output_type": "display_data"
    },
    {
     "data": {
      "text/markdown": [
       "<span style=\"color:#33cc33\">Correct</span>"
      ],
      "text/plain": [
       "Correct"
      ]
     },
     "metadata": {},
     "output_type": "display_data"
    }
   ],
   "source": [
    "pi = 3.14159 # approximate\n",
    "diameter = 3\n",
    "\n",
    "# Create a variable called 'radius' equal to half the diameter\n",
    "radius = diameter/2\n",
    "\n",
    "# Create a variable called 'area', using the formula for the area of a circle: pi times the radius squared\n",
    "area = pi * (radius ** 2)\n",
    "\n",
    "# Check your answer\n",
    "q1.check()"
   ]
  },
  {
   "cell_type": "code",
   "execution_count": 6,
   "id": "fe8a8317",
   "metadata": {
    "execution": {
     "iopub.execute_input": "2021-08-04T00:42:28.961845Z",
     "iopub.status.busy": "2021-08-04T00:42:28.961263Z",
     "iopub.status.idle": "2021-08-04T00:42:28.964221Z",
     "shell.execute_reply": "2021-08-04T00:42:28.964650Z"
    },
    "papermill": {
     "duration": 0.025508,
     "end_time": "2021-08-04T00:42:28.964833",
     "exception": false,
     "start_time": "2021-08-04T00:42:28.939325",
     "status": "completed"
    },
    "tags": []
   },
   "outputs": [],
   "source": [
    "# Uncomment and run the lines below if you need help.\n",
    "#q1.hint()\n",
    "#q1.solution()"
   ]
  },
  {
   "cell_type": "markdown",
   "id": "ebdc02d6",
   "metadata": {
    "papermill": {
     "duration": 0.019874,
     "end_time": "2021-08-04T00:42:29.004434",
     "exception": false,
     "start_time": "2021-08-04T00:42:28.984560",
     "status": "completed"
    },
    "tags": []
   },
   "source": [
    "<hr/>\n",
    "\n",
    "# 2.\n",
    "\n",
    "Add code to the following cell to swap variables `a` and `b` (so that `a` refers to the object previously referred to by `b` and vice versa)."
   ]
  },
  {
   "cell_type": "code",
   "execution_count": 7,
   "id": "3c2c7a8c",
   "metadata": {
    "execution": {
     "iopub.execute_input": "2021-08-04T00:42:29.047970Z",
     "iopub.status.busy": "2021-08-04T00:42:29.047314Z",
     "iopub.status.idle": "2021-08-04T00:42:29.055038Z",
     "shell.execute_reply": "2021-08-04T00:42:29.054450Z",
     "shell.execute_reply.started": "2021-08-04T00:35:18.252623Z"
    },
    "papermill": {
     "duration": 0.03106,
     "end_time": "2021-08-04T00:42:29.055170",
     "exception": false,
     "start_time": "2021-08-04T00:42:29.024110",
     "status": "completed"
    },
    "tags": []
   },
   "outputs": [
    {
     "data": {
      "application/javascript": [
       "parent.postMessage({\"jupyterEvent\": \"custom.exercise_interaction\", \"data\": {\"outcomeType\": 1, \"valueTowardsCompletion\": 0.25, \"interactionType\": 1, \"questionType\": 2, \"questionId\": \"2_VariableSwap\", \"learnToolsVersion\": \"0.3.4\", \"failureMessage\": \"\", \"exceptionClass\": \"\", \"trace\": \"\"}}, \"*\")"
      ],
      "text/plain": [
       "<IPython.core.display.Javascript object>"
      ]
     },
     "metadata": {},
     "output_type": "display_data"
    },
    {
     "data": {
      "text/markdown": [
       "<span style=\"color:#33cc33\">Correct:</span> \n",
       "\n",
       "The most straightforward solution is to use a third variable to temporarily store one of the old values. e.g.:\n",
       "\n",
       "    tmp = a\n",
       "    a = b\n",
       "    b = tmp\n",
       "\n",
       "If you've read lots of Python code, you might have seen the following trick to swap two variables in one line:\n",
       "\n",
       "    a, b = b, a\n",
       "\n",
       "We'll demystify this bit of Python magic later when we talk about *tuples*."
      ],
      "text/plain": [
       "Correct: \n",
       "\n",
       "The most straightforward solution is to use a third variable to temporarily store one of the old values. e.g.:\n",
       "\n",
       "    tmp = a\n",
       "    a = b\n",
       "    b = tmp\n",
       "\n",
       "If you've read lots of Python code, you might have seen the following trick to swap two variables in one line:\n",
       "\n",
       "    a, b = b, a\n",
       "\n",
       "We'll demystify this bit of Python magic later when we talk about *tuples*."
      ]
     },
     "metadata": {},
     "output_type": "display_data"
    }
   ],
   "source": [
    "########### Setup code - don't touch this part ######################\n",
    "# If you're curious, these are examples of lists. We'll talk about \n",
    "# them in depth a few lessons from now. For now, just know that they're\n",
    "# yet another type of Python object, like int or float.\n",
    "a = [1, 2, 3]\n",
    "b = [3, 2, 1]\n",
    "q2.store_original_ids()\n",
    "######################################################################\n",
    "\n",
    "# Your code goes here. Swap the values to which a and b refer.\n",
    "# If you get stuck, you can always uncomment one or both of the lines in\n",
    "# the next cell for a hint, or to peek at the solution.\n",
    "c = b\n",
    "d = a\n",
    "a = c\n",
    "b = d\n",
    "\n",
    "######################################################################\n",
    "\n",
    "# Check your answer\n",
    "q2.check()"
   ]
  },
  {
   "cell_type": "code",
   "execution_count": 8,
   "id": "de96a515",
   "metadata": {
    "execution": {
     "iopub.execute_input": "2021-08-04T00:42:29.101298Z",
     "iopub.status.busy": "2021-08-04T00:42:29.100629Z",
     "iopub.status.idle": "2021-08-04T00:42:29.102645Z",
     "shell.execute_reply": "2021-08-04T00:42:29.103099Z"
    },
    "papermill": {
     "duration": 0.027366,
     "end_time": "2021-08-04T00:42:29.103276",
     "exception": false,
     "start_time": "2021-08-04T00:42:29.075910",
     "status": "completed"
    },
    "tags": []
   },
   "outputs": [],
   "source": [
    "#q2.hint()"
   ]
  },
  {
   "cell_type": "code",
   "execution_count": 9,
   "id": "3f6a39d0",
   "metadata": {
    "execution": {
     "iopub.execute_input": "2021-08-04T00:42:29.148679Z",
     "iopub.status.busy": "2021-08-04T00:42:29.147461Z",
     "iopub.status.idle": "2021-08-04T00:42:29.151232Z",
     "shell.execute_reply": "2021-08-04T00:42:29.151726Z"
    },
    "papermill": {
     "duration": 0.027897,
     "end_time": "2021-08-04T00:42:29.151928",
     "exception": false,
     "start_time": "2021-08-04T00:42:29.124031",
     "status": "completed"
    },
    "tags": []
   },
   "outputs": [],
   "source": [
    "#q2.solution()"
   ]
  },
  {
   "cell_type": "markdown",
   "id": "21be76b6",
   "metadata": {
    "papermill": {
     "duration": 0.020689,
     "end_time": "2021-08-04T00:42:29.193474",
     "exception": false,
     "start_time": "2021-08-04T00:42:29.172785",
     "status": "completed"
    },
    "tags": []
   },
   "source": [
    "<hr/>\n",
    "\n",
    "# 3a.\n",
    "\n",
    "Add parentheses to the following expression so that it evaluates to 1."
   ]
  },
  {
   "cell_type": "code",
   "execution_count": 10,
   "id": "272f03d8",
   "metadata": {
    "execution": {
     "iopub.execute_input": "2021-08-04T00:42:29.238380Z",
     "iopub.status.busy": "2021-08-04T00:42:29.237716Z",
     "iopub.status.idle": "2021-08-04T00:42:29.242151Z",
     "shell.execute_reply": "2021-08-04T00:42:29.242572Z",
     "shell.execute_reply.started": "2021-08-04T00:36:07.804718Z"
    },
    "papermill": {
     "duration": 0.028166,
     "end_time": "2021-08-04T00:42:29.242764",
     "exception": false,
     "start_time": "2021-08-04T00:42:29.214598",
     "status": "completed"
    },
    "tags": []
   },
   "outputs": [
    {
     "data": {
      "text/plain": [
       "1"
      ]
     },
     "execution_count": 10,
     "metadata": {},
     "output_type": "execute_result"
    }
   ],
   "source": [
    "(5 - 3) // 2"
   ]
  },
  {
   "cell_type": "code",
   "execution_count": 11,
   "id": "c44285eb",
   "metadata": {
    "execution": {
     "iopub.execute_input": "2021-08-04T00:42:29.289367Z",
     "iopub.status.busy": "2021-08-04T00:42:29.288746Z",
     "iopub.status.idle": "2021-08-04T00:42:29.291602Z",
     "shell.execute_reply": "2021-08-04T00:42:29.292103Z"
    },
    "papermill": {
     "duration": 0.027945,
     "end_time": "2021-08-04T00:42:29.292275",
     "exception": false,
     "start_time": "2021-08-04T00:42:29.264330",
     "status": "completed"
    },
    "tags": []
   },
   "outputs": [],
   "source": [
    "#q3.a.hint()"
   ]
  },
  {
   "cell_type": "code",
   "execution_count": 12,
   "id": "f004b3f7",
   "metadata": {
    "execution": {
     "iopub.execute_input": "2021-08-04T00:42:29.339277Z",
     "iopub.status.busy": "2021-08-04T00:42:29.338655Z",
     "iopub.status.idle": "2021-08-04T00:42:29.345867Z",
     "shell.execute_reply": "2021-08-04T00:42:29.345331Z",
     "shell.execute_reply.started": "2021-08-04T00:36:14.274624Z"
    },
    "papermill": {
     "duration": 0.032274,
     "end_time": "2021-08-04T00:42:29.346031",
     "exception": false,
     "start_time": "2021-08-04T00:42:29.313757",
     "status": "completed"
    },
    "tags": []
   },
   "outputs": [
    {
     "data": {
      "application/javascript": [
       "parent.postMessage({\"jupyterEvent\": \"custom.exercise_interaction\", \"data\": {\"interactionType\": 3, \"questionType\": 4, \"questionId\": \"3.1_ArithmeticParensEasy\", \"learnToolsVersion\": \"0.3.4\", \"valueTowardsCompletion\": 0.0, \"failureMessage\": \"\", \"exceptionClass\": \"\", \"trace\": \"\", \"outcomeType\": 4}}, \"*\")"
      ],
      "text/plain": [
       "<IPython.core.display.Javascript object>"
      ]
     },
     "metadata": {},
     "output_type": "display_data"
    },
    {
     "data": {
      "text/markdown": [
       "<span style=\"color:#33cc99\">Solution:</span> \n",
       "```python\n",
       "(5 - 3) // 2\n",
       "```"
      ],
      "text/plain": [
       "Solution: \n",
       "```python\n",
       "(5 - 3) // 2\n",
       "```"
      ]
     },
     "metadata": {},
     "output_type": "display_data"
    }
   ],
   "source": [
    "# Check your answer (Run this code cell to receive credit!)\n",
    "q3.a.solution()"
   ]
  },
  {
   "cell_type": "markdown",
   "id": "fb244f78",
   "metadata": {
    "papermill": {
     "duration": 0.021102,
     "end_time": "2021-08-04T00:42:29.388716",
     "exception": false,
     "start_time": "2021-08-04T00:42:29.367614",
     "status": "completed"
    },
    "tags": []
   },
   "source": [
    "# 3b.  <span title=\"A bit spicy\" style=\"color: darkgreen \">🌶️</span>\n",
    "\n",
    "<small>Questions, like this one, marked a spicy pepper are a bit harder.</small>\n",
    "\n",
    "Add parentheses to the following expression so that it evaluates to 0."
   ]
  },
  {
   "cell_type": "code",
   "execution_count": 13,
   "id": "bf3c64ab",
   "metadata": {
    "execution": {
     "iopub.execute_input": "2021-08-04T00:42:29.436996Z",
     "iopub.status.busy": "2021-08-04T00:42:29.436333Z",
     "iopub.status.idle": "2021-08-04T00:42:29.439304Z",
     "shell.execute_reply": "2021-08-04T00:42:29.439763Z",
     "shell.execute_reply.started": "2021-08-04T00:38:21.755920Z"
    },
    "papermill": {
     "duration": 0.029916,
     "end_time": "2021-08-04T00:42:29.439939",
     "exception": false,
     "start_time": "2021-08-04T00:42:29.410023",
     "status": "completed"
    },
    "tags": []
   },
   "outputs": [
    {
     "data": {
      "text/plain": [
       "0"
      ]
     },
     "execution_count": 13,
     "metadata": {},
     "output_type": "execute_result"
    }
   ],
   "source": [
    "(8 - 3) * (2 - (1 + 1))"
   ]
  },
  {
   "cell_type": "code",
   "execution_count": 14,
   "id": "a6287afe",
   "metadata": {
    "execution": {
     "iopub.execute_input": "2021-08-04T00:42:29.487119Z",
     "iopub.status.busy": "2021-08-04T00:42:29.486501Z",
     "iopub.status.idle": "2021-08-04T00:42:29.490874Z",
     "shell.execute_reply": "2021-08-04T00:42:29.490290Z"
    },
    "papermill": {
     "duration": 0.028602,
     "end_time": "2021-08-04T00:42:29.491026",
     "exception": false,
     "start_time": "2021-08-04T00:42:29.462424",
     "status": "completed"
    },
    "tags": []
   },
   "outputs": [],
   "source": [
    "#q3.b.hint()"
   ]
  },
  {
   "cell_type": "code",
   "execution_count": 15,
   "id": "1e9251c3",
   "metadata": {
    "execution": {
     "iopub.execute_input": "2021-08-04T00:42:29.540486Z",
     "iopub.status.busy": "2021-08-04T00:42:29.539826Z",
     "iopub.status.idle": "2021-08-04T00:42:29.544909Z",
     "shell.execute_reply": "2021-08-04T00:42:29.544426Z",
     "shell.execute_reply.started": "2021-08-04T00:38:25.266062Z"
    },
    "papermill": {
     "duration": 0.031816,
     "end_time": "2021-08-04T00:42:29.545089",
     "exception": false,
     "start_time": "2021-08-04T00:42:29.513273",
     "status": "completed"
    },
    "tags": []
   },
   "outputs": [
    {
     "data": {
      "application/javascript": [
       "parent.postMessage({\"jupyterEvent\": \"custom.exercise_interaction\", \"data\": {\"interactionType\": 3, \"questionType\": 4, \"questionId\": \"3.2_ArithmeticParensHard\", \"learnToolsVersion\": \"0.3.4\", \"valueTowardsCompletion\": 0.0, \"failureMessage\": \"\", \"exceptionClass\": \"\", \"trace\": \"\", \"outcomeType\": 4}}, \"*\")"
      ],
      "text/plain": [
       "<IPython.core.display.Javascript object>"
      ]
     },
     "metadata": {},
     "output_type": "display_data"
    },
    {
     "data": {
      "text/markdown": [
       "<span style=\"color:#33cc99\">Solution:</span> `(8 - 3) * (2 - (1 + 1))` is one solution. There may be others."
      ],
      "text/plain": [
       "Solution: `(8 - 3) * (2 - (1 + 1))` is one solution. There may be others."
      ]
     },
     "metadata": {},
     "output_type": "display_data"
    }
   ],
   "source": [
    "# Check your answer (Run this code cell to receive credit!)\n",
    "q3.b.solution()"
   ]
  },
  {
   "cell_type": "markdown",
   "id": "ecfb9972",
   "metadata": {
    "papermill": {
     "duration": 0.022779,
     "end_time": "2021-08-04T00:42:29.590771",
     "exception": false,
     "start_time": "2021-08-04T00:42:29.567992",
     "status": "completed"
    },
    "tags": []
   },
   "source": [
    "<hr/>\n",
    "\n",
    "# 4. \n",
    "Alice, Bob and Carol have agreed to pool their Halloween candy and split it evenly among themselves.\n",
    "For the sake of their friendship, any candies left over will be smashed. For example, if they collectively\n",
    "bring home 91 candies, they'll take 30 each and smash 1.\n",
    "\n",
    "Write an arithmetic expression below to calculate how many candies they must smash for a given haul."
   ]
  },
  {
   "cell_type": "code",
   "execution_count": 16,
   "id": "2d5eba34",
   "metadata": {
    "execution": {
     "iopub.execute_input": "2021-08-04T00:42:29.638828Z",
     "iopub.status.busy": "2021-08-04T00:42:29.638250Z",
     "iopub.status.idle": "2021-08-04T00:42:29.644674Z",
     "shell.execute_reply": "2021-08-04T00:42:29.645168Z",
     "shell.execute_reply.started": "2021-08-04T00:41:51.394793Z"
    },
    "papermill": {
     "duration": 0.031948,
     "end_time": "2021-08-04T00:42:29.645339",
     "exception": false,
     "start_time": "2021-08-04T00:42:29.613391",
     "status": "completed"
    },
    "tags": []
   },
   "outputs": [
    {
     "data": {
      "application/javascript": [
       "parent.postMessage({\"jupyterEvent\": \"custom.exercise_interaction\", \"data\": {\"outcomeType\": 1, \"valueTowardsCompletion\": 0.25, \"interactionType\": 1, \"questionType\": 1, \"questionId\": \"4_CandySplitting\", \"learnToolsVersion\": \"0.3.4\", \"failureMessage\": \"\", \"exceptionClass\": \"\", \"trace\": \"\"}}, \"*\")"
      ],
      "text/plain": [
       "<IPython.core.display.Javascript object>"
      ]
     },
     "metadata": {},
     "output_type": "display_data"
    },
    {
     "data": {
      "text/markdown": [
       "<span style=\"color:#33cc33\">Correct</span>"
      ],
      "text/plain": [
       "Correct"
      ]
     },
     "metadata": {},
     "output_type": "display_data"
    }
   ],
   "source": [
    "# Variables representing the number of candies collected by alice, bob, and carol\n",
    "alice_candies = 121\n",
    "bob_candies = 77\n",
    "carol_candies = 109\n",
    "\n",
    "# Your code goes here! Replace the right-hand side of this assignment with an expression\n",
    "# involving alice_candies, bob_candies, and carol_candies\n",
    "total = alice_candies + bob_candies + carol_candies\n",
    "to_smash = total % 3\n",
    "\n",
    "# Check your answer\n",
    "q4.check()"
   ]
  },
  {
   "cell_type": "code",
   "execution_count": 17,
   "id": "fbc37765",
   "metadata": {
    "execution": {
     "iopub.execute_input": "2021-08-04T00:42:29.696291Z",
     "iopub.status.busy": "2021-08-04T00:42:29.695630Z",
     "iopub.status.idle": "2021-08-04T00:42:29.697968Z",
     "shell.execute_reply": "2021-08-04T00:42:29.698395Z"
    },
    "papermill": {
     "duration": 0.029712,
     "end_time": "2021-08-04T00:42:29.698565",
     "exception": false,
     "start_time": "2021-08-04T00:42:29.668853",
     "status": "completed"
    },
    "tags": []
   },
   "outputs": [],
   "source": [
    "#q4.hint()\n",
    "#q4.solution()"
   ]
  },
  {
   "cell_type": "markdown",
   "id": "4903cbf5",
   "metadata": {
    "papermill": {
     "duration": 0.02374,
     "end_time": "2021-08-04T00:42:29.745985",
     "exception": false,
     "start_time": "2021-08-04T00:42:29.722245",
     "status": "completed"
    },
    "tags": []
   },
   "source": [
    "# Keep Going\n",
    "\n",
    "Next up, you'll **[learn to write new functions and understand functions others write](https://www.kaggle.com/colinmorris/functions-and-getting-help)**. This will make you at least 10 times more productive as a Python programmer. "
   ]
  },
  {
   "cell_type": "markdown",
   "id": "1f9397f4",
   "metadata": {
    "papermill": {
     "duration": 0.023339,
     "end_time": "2021-08-04T00:42:29.793389",
     "exception": false,
     "start_time": "2021-08-04T00:42:29.770050",
     "status": "completed"
    },
    "tags": []
   },
   "source": [
    "---\n",
    "\n",
    "\n",
    "\n",
    "\n",
    "*Have questions or comments? Visit the [Learn Discussion forum](https://www.kaggle.com/learn-forum/161283) to chat with other Learners.*"
   ]
  }
 ],
 "metadata": {
  "kernelspec": {
   "display_name": "Python 3",
   "language": "python",
   "name": "python3"
  },
  "language_info": {
   "codemirror_mode": {
    "name": "ipython",
    "version": 3
   },
   "file_extension": ".py",
   "mimetype": "text/x-python",
   "name": "python",
   "nbconvert_exporter": "python",
   "pygments_lexer": "ipython3",
   "version": "3.7.10"
  },
  "papermill": {
   "default_parameters": {},
   "duration": 9.719243,
   "end_time": "2021-08-04T00:42:31.194511",
   "environment_variables": {},
   "exception": null,
   "input_path": "__notebook__.ipynb",
   "output_path": "__notebook__.ipynb",
   "parameters": {},
   "start_time": "2021-08-04T00:42:21.475268",
   "version": "2.3.3"
  }
 },
 "nbformat": 4,
 "nbformat_minor": 5
}
