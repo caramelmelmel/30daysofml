{
 "cells": [
  {
   "cell_type": "markdown",
   "id": "d58affef",
   "metadata": {
    "papermill": {
     "duration": 0.029021,
     "end_time": "2021-08-05T02:50:21.647612",
     "exception": false,
     "start_time": "2021-08-05T02:50:21.618591",
     "status": "completed"
    },
    "tags": []
   },
   "source": [
    "**This notebook is an exercise in the [Python](https://www.kaggle.com/learn/python) course.  You can reference the tutorial at [this link](https://www.kaggle.com/colinmorris/booleans-and-conditionals).**\n",
    "\n",
    "---\n"
   ]
  },
  {
   "cell_type": "markdown",
   "id": "87d67501",
   "metadata": {
    "papermill": {
     "duration": 0.027041,
     "end_time": "2021-08-05T02:50:21.704132",
     "exception": false,
     "start_time": "2021-08-05T02:50:21.677091",
     "status": "completed"
    },
    "tags": []
   },
   "source": [
    "In this exercise, you'll put to work what you have learned about booleans and conditionals.\n",
    "\n",
    "To get started, **run the setup code below** before writing your own code (and if you leave this notebook and come back later, don't forget to run the setup code again)."
   ]
  },
  {
   "cell_type": "code",
   "execution_count": 1,
   "id": "09d6044e",
   "metadata": {
    "execution": {
     "iopub.execute_input": "2021-08-05T02:50:21.766074Z",
     "iopub.status.busy": "2021-08-05T02:50:21.764387Z",
     "iopub.status.idle": "2021-08-05T02:50:21.920228Z",
     "shell.execute_reply": "2021-08-05T02:50:21.919476Z",
     "shell.execute_reply.started": "2021-08-05T02:28:36.248147Z"
    },
    "papermill": {
     "duration": 0.188188,
     "end_time": "2021-08-05T02:50:21.920398",
     "exception": false,
     "start_time": "2021-08-05T02:50:21.732210",
     "status": "completed"
    },
    "tags": []
   },
   "outputs": [
    {
     "name": "stdout",
     "output_type": "stream",
     "text": [
      "Setup complete.\n"
     ]
    }
   ],
   "source": [
    "from learntools.core import binder; binder.bind(globals())\n",
    "from learntools.python.ex3 import *\n",
    "print('Setup complete.')"
   ]
  },
  {
   "cell_type": "markdown",
   "id": "9a7e5ff5",
   "metadata": {
    "papermill": {
     "duration": 0.028081,
     "end_time": "2021-08-05T02:50:21.977574",
     "exception": false,
     "start_time": "2021-08-05T02:50:21.949493",
     "status": "completed"
    },
    "tags": []
   },
   "source": [
    "# 1.\n",
    "\n",
    "Many programming languages have [`sign`](https://en.wikipedia.org/wiki/Sign_function) available as a built-in function. Python doesn't, but we can define our own!\n",
    "\n",
    "In the cell below, define a function called `sign` which takes a numerical argument and returns -1 if it's negative, 1 if it's positive, and 0 if it's 0."
   ]
  },
  {
   "cell_type": "code",
   "execution_count": 2,
   "id": "a16af4e1",
   "metadata": {
    "execution": {
     "iopub.execute_input": "2021-08-05T02:50:22.039618Z",
     "iopub.status.busy": "2021-08-05T02:50:22.038963Z",
     "iopub.status.idle": "2021-08-05T02:50:22.045920Z",
     "shell.execute_reply": "2021-08-05T02:50:22.046419Z",
     "shell.execute_reply.started": "2021-08-05T02:30:33.376121Z"
    },
    "papermill": {
     "duration": 0.040916,
     "end_time": "2021-08-05T02:50:22.046584",
     "exception": false,
     "start_time": "2021-08-05T02:50:22.005668",
     "status": "completed"
    },
    "tags": []
   },
   "outputs": [
    {
     "data": {
      "application/javascript": [
       "parent.postMessage({\"jupyterEvent\": \"custom.exercise_interaction\", \"data\": {\"outcomeType\": 1, \"valueTowardsCompletion\": 0.2, \"interactionType\": 1, \"questionType\": 2, \"questionId\": \"1_SignFunctionProblem\", \"learnToolsVersion\": \"0.3.4\", \"failureMessage\": \"\", \"exceptionClass\": \"\", \"trace\": \"\"}}, \"*\")"
      ],
      "text/plain": [
       "<IPython.core.display.Javascript object>"
      ]
     },
     "metadata": {},
     "output_type": "display_data"
    },
    {
     "data": {
      "text/markdown": [
       "<span style=\"color:#33cc33\">Correct</span>"
      ],
      "text/plain": [
       "Correct"
      ]
     },
     "metadata": {},
     "output_type": "display_data"
    }
   ],
   "source": [
    "# Your code goes here. Define a function called 'sign'\n",
    "def sign(num):\n",
    "    if num > 0:\n",
    "        return 1\n",
    "    elif num < 0:\n",
    "        return -1\n",
    "    else:\n",
    "        return 0\n",
    "\n",
    "# Check your answer\n",
    "q1.check()"
   ]
  },
  {
   "cell_type": "code",
   "execution_count": 3,
   "id": "cde1db40",
   "metadata": {
    "execution": {
     "iopub.execute_input": "2021-08-05T02:50:22.111146Z",
     "iopub.status.busy": "2021-08-05T02:50:22.110453Z",
     "iopub.status.idle": "2021-08-05T02:50:22.113571Z",
     "shell.execute_reply": "2021-08-05T02:50:22.114039Z"
    },
    "papermill": {
     "duration": 0.037859,
     "end_time": "2021-08-05T02:50:22.114204",
     "exception": false,
     "start_time": "2021-08-05T02:50:22.076345",
     "status": "completed"
    },
    "tags": []
   },
   "outputs": [],
   "source": [
    "#q1.solution()"
   ]
  },
  {
   "cell_type": "markdown",
   "id": "256f2b8a",
   "metadata": {
    "papermill": {
     "duration": 0.030885,
     "end_time": "2021-08-05T02:50:22.176210",
     "exception": false,
     "start_time": "2021-08-05T02:50:22.145325",
     "status": "completed"
    },
    "tags": []
   },
   "source": [
    "# 2.\n",
    "\n",
    "We've decided to add \"logging\" to our `to_smash` function from the previous exercise."
   ]
  },
  {
   "cell_type": "code",
   "execution_count": 4,
   "id": "c5c073c7",
   "metadata": {
    "execution": {
     "iopub.execute_input": "2021-08-05T02:50:22.246180Z",
     "iopub.status.busy": "2021-08-05T02:50:22.245159Z",
     "iopub.status.idle": "2021-08-05T02:50:22.249592Z",
     "shell.execute_reply": "2021-08-05T02:50:22.250193Z",
     "shell.execute_reply.started": "2021-08-05T02:31:06.265005Z"
    },
    "papermill": {
     "duration": 0.043546,
     "end_time": "2021-08-05T02:50:22.250353",
     "exception": false,
     "start_time": "2021-08-05T02:50:22.206807",
     "status": "completed"
    },
    "tags": []
   },
   "outputs": [
    {
     "name": "stdout",
     "output_type": "stream",
     "text": [
      "Splitting 91 candies\n"
     ]
    },
    {
     "data": {
      "text/plain": [
       "1"
      ]
     },
     "execution_count": 4,
     "metadata": {},
     "output_type": "execute_result"
    }
   ],
   "source": [
    "def to_smash(total_candies):\n",
    "    \"\"\"Return the number of leftover candies that must be smashed after distributing\n",
    "    the given number of candies evenly between 3 friends.\n",
    "    \n",
    "    >>> to_smash(91)\n",
    "    1\n",
    "    \"\"\"\n",
    "    print(\"Splitting\", total_candies, \"candies\")\n",
    "    return total_candies % 3\n",
    "\n",
    "to_smash(91)"
   ]
  },
  {
   "cell_type": "markdown",
   "id": "bcf915ec",
   "metadata": {
    "papermill": {
     "duration": 0.031395,
     "end_time": "2021-08-05T02:50:22.312771",
     "exception": false,
     "start_time": "2021-08-05T02:50:22.281376",
     "status": "completed"
    },
    "tags": []
   },
   "source": [
    "What happens if we call it with `total_candies = 1`?"
   ]
  },
  {
   "cell_type": "code",
   "execution_count": 5,
   "id": "4f788b3a",
   "metadata": {
    "execution": {
     "iopub.execute_input": "2021-08-05T02:50:22.381897Z",
     "iopub.status.busy": "2021-08-05T02:50:22.381189Z",
     "iopub.status.idle": "2021-08-05T02:50:22.385299Z",
     "shell.execute_reply": "2021-08-05T02:50:22.385808Z",
     "shell.execute_reply.started": "2021-08-05T02:31:11.786113Z"
    },
    "papermill": {
     "duration": 0.040643,
     "end_time": "2021-08-05T02:50:22.385977",
     "exception": false,
     "start_time": "2021-08-05T02:50:22.345334",
     "status": "completed"
    },
    "tags": []
   },
   "outputs": [
    {
     "name": "stdout",
     "output_type": "stream",
     "text": [
      "Splitting 1 candies\n"
     ]
    },
    {
     "data": {
      "text/plain": [
       "1"
      ]
     },
     "execution_count": 5,
     "metadata": {},
     "output_type": "execute_result"
    }
   ],
   "source": [
    "to_smash(1)"
   ]
  },
  {
   "cell_type": "markdown",
   "id": "717d4b5c",
   "metadata": {
    "papermill": {
     "duration": 0.032169,
     "end_time": "2021-08-05T02:50:22.450463",
     "exception": false,
     "start_time": "2021-08-05T02:50:22.418294",
     "status": "completed"
    },
    "tags": []
   },
   "source": [
    "That isn't great grammar!\n",
    "\n",
    "Modify the definition in the cell below to correct the grammar of our print statement. (If there's only one candy, we should use the singular \"candy\" instead of the plural \"candies\")"
   ]
  },
  {
   "cell_type": "code",
   "execution_count": 6,
   "id": "58c0a05a",
   "metadata": {
    "execution": {
     "iopub.execute_input": "2021-08-05T02:50:22.517048Z",
     "iopub.status.busy": "2021-08-05T02:50:22.516381Z",
     "iopub.status.idle": "2021-08-05T02:50:22.524526Z",
     "shell.execute_reply": "2021-08-05T02:50:22.525123Z",
     "shell.execute_reply.started": "2021-08-05T02:33:58.662300Z"
    },
    "papermill": {
     "duration": 0.043375,
     "end_time": "2021-08-05T02:50:22.525293",
     "exception": false,
     "start_time": "2021-08-05T02:50:22.481918",
     "status": "completed"
    },
    "tags": []
   },
   "outputs": [
    {
     "name": "stdout",
     "output_type": "stream",
     "text": [
      "Splitting 1 candies\n",
      "Splitting 1 candies\n"
     ]
    },
    {
     "data": {
      "text/plain": [
       "1"
      ]
     },
     "execution_count": 6,
     "metadata": {},
     "output_type": "execute_result"
    }
   ],
   "source": [
    "def to_smash(total_candies):\n",
    "    \"\"\"Return the number of leftover candies that must be smashed after distributing\n",
    "    the given number of candies evenly between 3 friends.\n",
    "    \n",
    "    >>> to_smash(91)\n",
    "    1\n",
    "    \"\"\"\n",
    "    if total_candies == 1:\n",
    "        split_candies = 1\n",
    "    else:\n",
    "        split_candies = total_candies % 3\n",
    "        \n",
    "    print(\"Splitting\", split_candies, \"candies\")\n",
    "    return split_candies\n",
    "\n",
    "to_smash(91)\n",
    "to_smash(1)"
   ]
  },
  {
   "cell_type": "markdown",
   "id": "6590b895",
   "metadata": {
    "papermill": {
     "duration": 0.030981,
     "end_time": "2021-08-05T02:50:22.587828",
     "exception": false,
     "start_time": "2021-08-05T02:50:22.556847",
     "status": "completed"
    },
    "tags": []
   },
   "source": [
    "To get credit for completing this problem, and to see the official answer, run the code cell below."
   ]
  },
  {
   "cell_type": "code",
   "execution_count": 7,
   "id": "d2fb002d",
   "metadata": {
    "execution": {
     "iopub.execute_input": "2021-08-05T02:50:22.653026Z",
     "iopub.status.busy": "2021-08-05T02:50:22.652376Z",
     "iopub.status.idle": "2021-08-05T02:50:22.660384Z",
     "shell.execute_reply": "2021-08-05T02:50:22.659779Z",
     "shell.execute_reply.started": "2021-08-05T02:31:32.490234Z"
    },
    "papermill": {
     "duration": 0.041626,
     "end_time": "2021-08-05T02:50:22.660514",
     "exception": false,
     "start_time": "2021-08-05T02:50:22.618888",
     "status": "completed"
    },
    "tags": []
   },
   "outputs": [
    {
     "data": {
      "application/javascript": [
       "parent.postMessage({\"jupyterEvent\": \"custom.exercise_interaction\", \"data\": {\"interactionType\": 3, \"questionType\": 4, \"questionId\": \"2_PluralizationProblem\", \"learnToolsVersion\": \"0.3.4\", \"valueTowardsCompletion\": 0.0, \"failureMessage\": \"\", \"exceptionClass\": \"\", \"trace\": \"\", \"outcomeType\": 4}}, \"*\")"
      ],
      "text/plain": [
       "<IPython.core.display.Javascript object>"
      ]
     },
     "metadata": {},
     "output_type": "display_data"
    },
    {
     "data": {
      "text/markdown": [
       "<span style=\"color:#33cc99\">Solution:</span> A straightforward (and totally fine) solution is to replace the original `print` call with:\n",
       "\n",
       "```python\n",
       "if total_candies == 1:\n",
       "    print(\"Splitting 1 candy\")\n",
       "else:\n",
       "    print(\"Splitting\", total_candies, \"candies\")\n",
       "```\n",
       "\n",
       "Here's a slightly more succinct solution using a conditional expression:\n",
       "\n",
       "```python\n",
       "print(\"Splitting\", total_candies, \"candy\" if total_candies == 1 else \"candies\")\n",
       "```"
      ],
      "text/plain": [
       "Solution: A straightforward (and totally fine) solution is to replace the original `print` call with:\n",
       "\n",
       "```python\n",
       "if total_candies == 1:\n",
       "    print(\"Splitting 1 candy\")\n",
       "else:\n",
       "    print(\"Splitting\", total_candies, \"candies\")\n",
       "```\n",
       "\n",
       "Here's a slightly more succinct solution using a conditional expression:\n",
       "\n",
       "```python\n",
       "print(\"Splitting\", total_candies, \"candy\" if total_candies == 1 else \"candies\")\n",
       "```"
      ]
     },
     "metadata": {},
     "output_type": "display_data"
    }
   ],
   "source": [
    "# Check your answer (Run this code cell to receive credit!)\n",
    "q2.solution()"
   ]
  },
  {
   "cell_type": "markdown",
   "id": "802ef434",
   "metadata": {
    "papermill": {
     "duration": 0.032508,
     "end_time": "2021-08-05T02:50:22.725287",
     "exception": false,
     "start_time": "2021-08-05T02:50:22.692779",
     "status": "completed"
    },
    "tags": []
   },
   "source": [
    "# 3. <span title=\"A bit spicy\" style=\"color: darkgreen \">🌶️</span>\n",
    "\n",
    "In the tutorial, we talked about deciding whether we're prepared for the weather. I said that I'm safe from today's weather if...\n",
    "- I have an umbrella...\n",
    "- or if the rain isn't too heavy and I have a hood...\n",
    "- otherwise, I'm still fine unless it's raining *and* it's a workday\n",
    "\n",
    "The function below uses our first attempt at turning this logic into a Python expression. I claimed that there was a bug in that code. Can you find it?\n",
    "\n",
    "To prove that `prepared_for_weather` is buggy, come up with a set of inputs where either:\n",
    "- the function returns `False` (but should have returned `True`), or\n",
    "- the function returned `True` (but should have returned `False`).\n",
    "\n",
    "To get credit for completing this question, your code should return a <font color='#33cc33'>Correct</font> result."
   ]
  },
  {
   "cell_type": "code",
   "execution_count": 8,
   "id": "1536f858",
   "metadata": {
    "execution": {
     "iopub.execute_input": "2021-08-05T02:50:22.802596Z",
     "iopub.status.busy": "2021-08-05T02:50:22.801916Z",
     "iopub.status.idle": "2021-08-05T02:50:22.810961Z",
     "shell.execute_reply": "2021-08-05T02:50:22.810310Z",
     "shell.execute_reply.started": "2021-08-05T02:38:41.761959Z"
    },
    "papermill": {
     "duration": 0.053891,
     "end_time": "2021-08-05T02:50:22.811114",
     "exception": false,
     "start_time": "2021-08-05T02:50:22.757223",
     "status": "completed"
    },
    "tags": []
   },
   "outputs": [
    {
     "name": "stdout",
     "output_type": "stream",
     "text": [
      "False\n"
     ]
    },
    {
     "data": {
      "application/javascript": [
       "parent.postMessage({\"jupyterEvent\": \"custom.exercise_interaction\", \"data\": {\"outcomeType\": 1, \"valueTowardsCompletion\": 0.2, \"interactionType\": 1, \"questionType\": 1, \"questionId\": \"3_WeatherDebug\", \"learnToolsVersion\": \"0.3.4\", \"failureMessage\": \"\", \"exceptionClass\": \"\", \"trace\": \"\"}}, \"*\")"
      ],
      "text/plain": [
       "<IPython.core.display.Javascript object>"
      ]
     },
     "metadata": {},
     "output_type": "display_data"
    },
    {
     "data": {
      "text/markdown": [
       "<span style=\"color:#33cc33\">Correct:</span> \n",
       "\n",
       "One example of a failing test case is:\n",
       "\n",
       "```python\n",
       "have_umbrella = False\n",
       "rain_level = 0.0\n",
       "have_hood = False\n",
       "is_workday = False\n",
       "```\n",
       "\n",
       "Clearly we're prepared for the weather in this case. It's not raining. Not only that, it's not a workday, so we don't even need to leave the house! But our function will return False on these inputs.\n",
       "\n",
       "The key problem is that Python implictly parenthesizes the last part as:\n",
       "\n",
       "```python\n",
       "(not (rain_level > 0)) and is_workday\n",
       "```\n",
       "\n",
       "Whereas what we were trying to express would look more like:\n",
       "\n",
       "```python\n",
       "not (rain_level > 0 and is_workday)\n",
       "```\n"
      ],
      "text/plain": [
       "Correct: \n",
       "\n",
       "One example of a failing test case is:\n",
       "\n",
       "```python\n",
       "have_umbrella = False\n",
       "rain_level = 0.0\n",
       "have_hood = False\n",
       "is_workday = False\n",
       "```\n",
       "\n",
       "Clearly we're prepared for the weather in this case. It's not raining. Not only that, it's not a workday, so we don't even need to leave the house! But our function will return False on these inputs.\n",
       "\n",
       "The key problem is that Python implictly parenthesizes the last part as:\n",
       "\n",
       "```python\n",
       "(not (rain_level > 0)) and is_workday\n",
       "```\n",
       "\n",
       "Whereas what we were trying to express would look more like:\n",
       "\n",
       "```python\n",
       "not (rain_level > 0 and is_workday)\n",
       "```"
      ]
     },
     "metadata": {},
     "output_type": "display_data"
    }
   ],
   "source": [
    "def prepared_for_weather(have_umbrella, rain_level, have_hood, is_workday):\n",
    "    # Don't change this code. Our goal is just to find the bug, not fix it!\n",
    "    return have_umbrella or rain_level < 5 and have_hood or not rain_level > 0 and is_workday\n",
    "\n",
    "# Change the values of these inputs so they represent a case where prepared_for_weather\n",
    "# returns the wrong answer.\n",
    "have_umbrella = False\n",
    "rain_level = 0.0\n",
    "have_hood = False\n",
    "is_workday = False\n",
    "\n",
    "# Check what the function returns given the current values of the variables above\n",
    "actual = prepared_for_weather(have_umbrella, rain_level, have_hood, is_workday)\n",
    "print(actual)\n",
    "\n",
    "# Check your answer\n",
    "q3.check()"
   ]
  },
  {
   "cell_type": "code",
   "execution_count": 9,
   "id": "cfe40c25",
   "metadata": {
    "execution": {
     "iopub.execute_input": "2021-08-05T02:50:22.907239Z",
     "iopub.status.busy": "2021-08-05T02:50:22.906460Z",
     "iopub.status.idle": "2021-08-05T02:50:22.916502Z",
     "shell.execute_reply": "2021-08-05T02:50:22.914904Z",
     "shell.execute_reply.started": "2021-08-05T02:38:16.711178Z"
    },
    "papermill": {
     "duration": 0.061663,
     "end_time": "2021-08-05T02:50:22.916650",
     "exception": false,
     "start_time": "2021-08-05T02:50:22.854987",
     "status": "completed"
    },
    "tags": []
   },
   "outputs": [
    {
     "data": {
      "application/javascript": [
       "parent.postMessage({\"jupyterEvent\": \"custom.exercise_interaction\", \"data\": {\"interactionType\": 2, \"questionType\": 1, \"questionId\": \"3_WeatherDebug\", \"learnToolsVersion\": \"0.3.4\", \"valueTowardsCompletion\": 0.0, \"failureMessage\": \"\", \"exceptionClass\": \"\", \"trace\": \"\", \"outcomeType\": 4}}, \"*\")"
      ],
      "text/plain": [
       "<IPython.core.display.Javascript object>"
      ]
     },
     "metadata": {},
     "output_type": "display_data"
    },
    {
     "data": {
      "text/markdown": [
       "<span style=\"color:#3366cc\">Hint:</span> Take a look at how we fixed our original expression in the main lesson. We added parentheses around certain subexpressions. The bug in this code is caused by Python evaluating certain operations in the \"wrong\" order."
      ],
      "text/plain": [
       "Hint: Take a look at how we fixed our original expression in the main lesson. We added parentheses around certain subexpressions. The bug in this code is caused by Python evaluating certain operations in the \"wrong\" order."
      ]
     },
     "metadata": {},
     "output_type": "display_data"
    },
    {
     "data": {
      "application/javascript": [
       "parent.postMessage({\"jupyterEvent\": \"custom.exercise_interaction\", \"data\": {\"interactionType\": 3, \"questionType\": 1, \"questionId\": \"3_WeatherDebug\", \"learnToolsVersion\": \"0.3.4\", \"valueTowardsCompletion\": 0.0, \"failureMessage\": \"\", \"exceptionClass\": \"\", \"trace\": \"\", \"outcomeType\": 4}}, \"*\")"
      ],
      "text/plain": [
       "<IPython.core.display.Javascript object>"
      ]
     },
     "metadata": {},
     "output_type": "display_data"
    },
    {
     "data": {
      "text/markdown": [
       "<span style=\"color:#33cc99\">Solution:</span> One example of a failing test case is:\n",
       "\n",
       "```python\n",
       "have_umbrella = False\n",
       "rain_level = 0.0\n",
       "have_hood = False\n",
       "is_workday = False\n",
       "```\n",
       "\n",
       "Clearly we're prepared for the weather in this case. It's not raining. Not only that, it's not a workday, so we don't even need to leave the house! But our function will return False on these inputs.\n",
       "\n",
       "The key problem is that Python implictly parenthesizes the last part as:\n",
       "\n",
       "```python\n",
       "(not (rain_level > 0)) and is_workday\n",
       "```\n",
       "\n",
       "Whereas what we were trying to express would look more like:\n",
       "\n",
       "```python\n",
       "not (rain_level > 0 and is_workday)\n",
       "```\n"
      ],
      "text/plain": [
       "Solution: One example of a failing test case is:\n",
       "\n",
       "```python\n",
       "have_umbrella = False\n",
       "rain_level = 0.0\n",
       "have_hood = False\n",
       "is_workday = False\n",
       "```\n",
       "\n",
       "Clearly we're prepared for the weather in this case. It's not raining. Not only that, it's not a workday, so we don't even need to leave the house! But our function will return False on these inputs.\n",
       "\n",
       "The key problem is that Python implictly parenthesizes the last part as:\n",
       "\n",
       "```python\n",
       "(not (rain_level > 0)) and is_workday\n",
       "```\n",
       "\n",
       "Whereas what we were trying to express would look more like:\n",
       "\n",
       "```python\n",
       "not (rain_level > 0 and is_workday)\n",
       "```"
      ]
     },
     "metadata": {},
     "output_type": "display_data"
    }
   ],
   "source": [
    "q3.hint()\n",
    "q3.solution()"
   ]
  },
  {
   "cell_type": "markdown",
   "id": "3fbc0804",
   "metadata": {
    "papermill": {
     "duration": 0.035778,
     "end_time": "2021-08-05T02:50:22.993005",
     "exception": false,
     "start_time": "2021-08-05T02:50:22.957227",
     "status": "completed"
    },
    "tags": []
   },
   "source": [
    "# 4.\n",
    "\n",
    "The function `is_negative` below is implemented correctly - it returns True if the given number is negative and False otherwise.\n",
    "\n",
    "However, it's more verbose than it needs to be. We can actually reduce the number of lines of code in this function by *75%* while keeping the same behaviour. \n",
    "\n",
    "See if you can come up with an equivalent body that uses just **one line** of code, and put it in the function `concise_is_negative`. (HINT: you don't even need Python's ternary syntax)"
   ]
  },
  {
   "cell_type": "code",
   "execution_count": 10,
   "id": "49dc82b2",
   "metadata": {
    "execution": {
     "iopub.execute_input": "2021-08-05T02:50:23.072711Z",
     "iopub.status.busy": "2021-08-05T02:50:23.071793Z",
     "iopub.status.idle": "2021-08-05T02:50:23.077961Z",
     "shell.execute_reply": "2021-08-05T02:50:23.077303Z",
     "shell.execute_reply.started": "2021-08-05T02:42:11.151363Z"
    },
    "papermill": {
     "duration": 0.048485,
     "end_time": "2021-08-05T02:50:23.078103",
     "exception": false,
     "start_time": "2021-08-05T02:50:23.029618",
     "status": "completed"
    },
    "tags": []
   },
   "outputs": [
    {
     "data": {
      "application/javascript": [
       "parent.postMessage({\"jupyterEvent\": \"custom.exercise_interaction\", \"data\": {\"outcomeType\": 1, \"valueTowardsCompletion\": 0.2, \"interactionType\": 1, \"questionType\": 2, \"questionId\": \"4_ConciseIsNegative\", \"learnToolsVersion\": \"0.3.4\", \"failureMessage\": \"\", \"exceptionClass\": \"\", \"trace\": \"\"}}, \"*\")"
      ],
      "text/plain": [
       "<IPython.core.display.Javascript object>"
      ]
     },
     "metadata": {},
     "output_type": "display_data"
    },
    {
     "data": {
      "text/markdown": [
       "<span style=\"color:#33cc33\">Correct</span>"
      ],
      "text/plain": [
       "Correct"
      ]
     },
     "metadata": {},
     "output_type": "display_data"
    }
   ],
   "source": [
    "def is_negative(number):\n",
    "    if number < 0:\n",
    "        return True\n",
    "    else:\n",
    "        return False\n",
    "\n",
    "def concise_is_negative(number):\n",
    "    return number < 0# Your code goes here (try to keep it to one line!)\n",
    "\n",
    "# Check your answer\n",
    "q4.check()"
   ]
  },
  {
   "cell_type": "code",
   "execution_count": 11,
   "id": "2f10d847",
   "metadata": {
    "execution": {
     "iopub.execute_input": "2021-08-05T02:50:23.156994Z",
     "iopub.status.busy": "2021-08-05T02:50:23.156306Z",
     "iopub.status.idle": "2021-08-05T02:50:23.164174Z",
     "shell.execute_reply": "2021-08-05T02:50:23.163509Z",
     "shell.execute_reply.started": "2021-08-05T02:41:56.738854Z"
    },
    "papermill": {
     "duration": 0.049407,
     "end_time": "2021-08-05T02:50:23.164316",
     "exception": false,
     "start_time": "2021-08-05T02:50:23.114909",
     "status": "completed"
    },
    "tags": []
   },
   "outputs": [
    {
     "data": {
      "application/javascript": [
       "parent.postMessage({\"jupyterEvent\": \"custom.exercise_interaction\", \"data\": {\"interactionType\": 2, \"questionType\": 2, \"questionId\": \"4_ConciseIsNegative\", \"learnToolsVersion\": \"0.3.4\", \"valueTowardsCompletion\": 0.0, \"failureMessage\": \"\", \"exceptionClass\": \"\", \"trace\": \"\", \"outcomeType\": 4}}, \"*\")"
      ],
      "text/plain": [
       "<IPython.core.display.Javascript object>"
      ]
     },
     "metadata": {},
     "output_type": "display_data"
    },
    {
     "data": {
      "text/markdown": [
       "<span style=\"color:#3366cc\">Hint:</span> If the value of the expression `number < 0` is `True`, then we return `True`. If it's `False`, then we return `False`..."
      ],
      "text/plain": [
       "Hint: If the value of the expression `number < 0` is `True`, then we return `True`. If it's `False`, then we return `False`..."
      ]
     },
     "metadata": {},
     "output_type": "display_data"
    },
    {
     "data": {
      "application/javascript": [
       "parent.postMessage({\"jupyterEvent\": \"custom.exercise_interaction\", \"data\": {\"interactionType\": 3, \"questionType\": 2, \"questionId\": \"4_ConciseIsNegative\", \"learnToolsVersion\": \"0.3.4\", \"valueTowardsCompletion\": 0.0, \"failureMessage\": \"\", \"exceptionClass\": \"\", \"trace\": \"\", \"outcomeType\": 4}}, \"*\")"
      ],
      "text/plain": [
       "<IPython.core.display.Javascript object>"
      ]
     },
     "metadata": {},
     "output_type": "display_data"
    },
    {
     "data": {
      "text/markdown": [
       "<span style=\"color:#33cc99\">Solution:</span> \n",
       "```python\n",
       "return number < 0\n",
       "```"
      ],
      "text/plain": [
       "Solution: \n",
       "```python\n",
       "return number < 0\n",
       "```"
      ]
     },
     "metadata": {},
     "output_type": "display_data"
    }
   ],
   "source": [
    "q4.hint()\n",
    "q4.solution()"
   ]
  },
  {
   "cell_type": "markdown",
   "id": "2767f752",
   "metadata": {
    "papermill": {
     "duration": 0.038474,
     "end_time": "2021-08-05T02:50:23.244428",
     "exception": false,
     "start_time": "2021-08-05T02:50:23.205954",
     "status": "completed"
    },
    "tags": []
   },
   "source": [
    "# 5a.\n",
    "\n",
    "The boolean variables `ketchup`, `mustard` and `onion` represent whether a customer wants a particular topping on their hot dog. We want to implement a number of boolean functions that correspond to some yes-or-no questions about the customer's order. For example:"
   ]
  },
  {
   "cell_type": "code",
   "execution_count": 12,
   "id": "e6015a38",
   "metadata": {
    "execution": {
     "iopub.execute_input": "2021-08-05T02:50:23.326620Z",
     "iopub.status.busy": "2021-08-05T02:50:23.325993Z",
     "iopub.status.idle": "2021-08-05T02:50:23.328438Z",
     "shell.execute_reply": "2021-08-05T02:50:23.329025Z",
     "shell.execute_reply.started": "2021-08-05T02:43:27.113425Z"
    },
    "papermill": {
     "duration": 0.046291,
     "end_time": "2021-08-05T02:50:23.329199",
     "exception": false,
     "start_time": "2021-08-05T02:50:23.282908",
     "status": "completed"
    },
    "tags": []
   },
   "outputs": [],
   "source": [
    "def onionless(ketchup, mustard, onion):\n",
    "    \"\"\"Return whether the customer doesn't want onions.\n",
    "    \"\"\"\n",
    "    return not onion"
   ]
  },
  {
   "cell_type": "code",
   "execution_count": 13,
   "id": "689fe409",
   "metadata": {
    "execution": {
     "iopub.execute_input": "2021-08-05T02:50:23.410179Z",
     "iopub.status.busy": "2021-08-05T02:50:23.409500Z",
     "iopub.status.idle": "2021-08-05T02:50:23.417011Z",
     "shell.execute_reply": "2021-08-05T02:50:23.416379Z",
     "shell.execute_reply.started": "2021-08-05T02:44:29.587195Z"
    },
    "papermill": {
     "duration": 0.049158,
     "end_time": "2021-08-05T02:50:23.417146",
     "exception": false,
     "start_time": "2021-08-05T02:50:23.367988",
     "status": "completed"
    },
    "tags": []
   },
   "outputs": [
    {
     "data": {
      "application/javascript": [
       "parent.postMessage({\"jupyterEvent\": \"custom.exercise_interaction\", \"data\": {\"outcomeType\": 1, \"valueTowardsCompletion\": 0.2, \"interactionType\": 1, \"questionType\": 2, \"questionId\": \"5.1_AllToppings\", \"learnToolsVersion\": \"0.3.4\", \"failureMessage\": \"\", \"exceptionClass\": \"\", \"trace\": \"\"}}, \"*\")"
      ],
      "text/plain": [
       "<IPython.core.display.Javascript object>"
      ]
     },
     "metadata": {},
     "output_type": "display_data"
    },
    {
     "data": {
      "text/markdown": [
       "<span style=\"color:#33cc33\">Correct</span>"
      ],
      "text/plain": [
       "Correct"
      ]
     },
     "metadata": {},
     "output_type": "display_data"
    }
   ],
   "source": [
    "def wants_all_toppings(ketchup, mustard, onion):\n",
    "    \"\"\"Return whether the customer wants \"the works\" (all 3 toppings)\n",
    "    \"\"\"\n",
    "    return (ketchup and mustard and onion)\n",
    "\n",
    "# Check your answer\n",
    "q5.a.check()"
   ]
  },
  {
   "cell_type": "code",
   "execution_count": 14,
   "id": "b7bfd5ac",
   "metadata": {
    "execution": {
     "iopub.execute_input": "2021-08-05T02:50:23.501465Z",
     "iopub.status.busy": "2021-08-05T02:50:23.500809Z",
     "iopub.status.idle": "2021-08-05T02:50:23.513395Z",
     "shell.execute_reply": "2021-08-05T02:50:23.513878Z",
     "shell.execute_reply.started": "2021-08-05T02:43:42.706797Z"
    },
    "papermill": {
     "duration": 0.057111,
     "end_time": "2021-08-05T02:50:23.514055",
     "exception": false,
     "start_time": "2021-08-05T02:50:23.456944",
     "status": "completed"
    },
    "tags": []
   },
   "outputs": [
    {
     "data": {
      "application/javascript": [
       "parent.postMessage({\"jupyterEvent\": \"custom.exercise_interaction\", \"data\": {\"interactionType\": 2, \"questionType\": 2, \"questionId\": \"5.1_AllToppings\", \"learnToolsVersion\": \"0.3.4\", \"valueTowardsCompletion\": 0.0, \"failureMessage\": \"\", \"exceptionClass\": \"\", \"trace\": \"\", \"outcomeType\": 4}}, \"*\")"
      ],
      "text/plain": [
       "<IPython.core.display.Javascript object>"
      ]
     },
     "metadata": {},
     "output_type": "display_data"
    },
    {
     "data": {
      "text/markdown": [
       "<span style=\"color:#3366cc\">Hint:</span> You'll need to use the `and` operator."
      ],
      "text/plain": [
       "Hint: You'll need to use the `and` operator."
      ]
     },
     "metadata": {},
     "output_type": "display_data"
    },
    {
     "data": {
      "application/javascript": [
       "parent.postMessage({\"jupyterEvent\": \"custom.exercise_interaction\", \"data\": {\"interactionType\": 3, \"questionType\": 2, \"questionId\": \"5.1_AllToppings\", \"learnToolsVersion\": \"0.3.4\", \"valueTowardsCompletion\": 0.0, \"failureMessage\": \"\", \"exceptionClass\": \"\", \"trace\": \"\", \"outcomeType\": 4}}, \"*\")"
      ],
      "text/plain": [
       "<IPython.core.display.Javascript object>"
      ]
     },
     "metadata": {},
     "output_type": "display_data"
    },
    {
     "data": {
      "text/markdown": [
       "<span style=\"color:#33cc99\">Solution:</span> \n",
       "```python\n",
       "return ketchup and mustard and onion\n",
       "```"
      ],
      "text/plain": [
       "Solution: \n",
       "```python\n",
       "return ketchup and mustard and onion\n",
       "```"
      ]
     },
     "metadata": {},
     "output_type": "display_data"
    }
   ],
   "source": [
    "q5.a.hint()\n",
    "q5.a.solution()"
   ]
  },
  {
   "cell_type": "markdown",
   "id": "c3a06c6e",
   "metadata": {
    "papermill": {
     "duration": 0.040993,
     "end_time": "2021-08-05T02:50:23.596945",
     "exception": false,
     "start_time": "2021-08-05T02:50:23.555952",
     "status": "completed"
    },
    "tags": []
   },
   "source": [
    "# 5b.\n",
    "\n",
    "For the next function, fill in the body to match the English description in the docstring. "
   ]
  },
  {
   "cell_type": "code",
   "execution_count": 15,
   "id": "96c3672b",
   "metadata": {
    "execution": {
     "iopub.execute_input": "2021-08-05T02:50:23.683520Z",
     "iopub.status.busy": "2021-08-05T02:50:23.682777Z",
     "iopub.status.idle": "2021-08-05T02:50:23.689371Z",
     "shell.execute_reply": "2021-08-05T02:50:23.689862Z",
     "shell.execute_reply.started": "2021-08-05T02:45:50.649723Z"
    },
    "papermill": {
     "duration": 0.051178,
     "end_time": "2021-08-05T02:50:23.690036",
     "exception": false,
     "start_time": "2021-08-05T02:50:23.638858",
     "status": "completed"
    },
    "tags": []
   },
   "outputs": [
    {
     "data": {
      "application/javascript": [
       "parent.postMessage({\"jupyterEvent\": \"custom.exercise_interaction\", \"data\": {\"outcomeType\": 1, \"valueTowardsCompletion\": 0.2, \"interactionType\": 1, \"questionType\": 2, \"questionId\": \"5.2_PlainDog\", \"learnToolsVersion\": \"0.3.4\", \"failureMessage\": \"\", \"exceptionClass\": \"\", \"trace\": \"\"}}, \"*\")"
      ],
      "text/plain": [
       "<IPython.core.display.Javascript object>"
      ]
     },
     "metadata": {},
     "output_type": "display_data"
    },
    {
     "data": {
      "text/markdown": [
       "<span style=\"color:#33cc33\">Correct:</span> \n",
       "\n",
       "One solution looks like:\n",
       "```python\n",
       "return not ketchup and not mustard and not onion\n",
       "```\n",
       "\n",
       "We can also [\"factor out\" the nots](https://en.wikipedia.org/wiki/De_Morgan%27s_laws) to get:\n",
       "\n",
       "```python\n",
       "return not (ketchup or mustard or onion)\n",
       "```"
      ],
      "text/plain": [
       "Correct: \n",
       "\n",
       "One solution looks like:\n",
       "```python\n",
       "return not ketchup and not mustard and not onion\n",
       "```\n",
       "\n",
       "We can also [\"factor out\" the nots](https://en.wikipedia.org/wiki/De_Morgan%27s_laws) to get:\n",
       "\n",
       "```python\n",
       "return not (ketchup or mustard or onion)\n",
       "```"
      ]
     },
     "metadata": {},
     "output_type": "display_data"
    }
   ],
   "source": [
    "def wants_plain_hotdog(ketchup, mustard, onion):\n",
    "    \"\"\"Return whether the customer wants a plain hot dog with no toppings.\n",
    "    \"\"\"\n",
    "    return not ketchup and not mustard and not onion\n",
    "\n",
    "# Check your answer\n",
    "q5.b.check()"
   ]
  },
  {
   "cell_type": "code",
   "execution_count": 16,
   "id": "424a5688",
   "metadata": {
    "execution": {
     "iopub.execute_input": "2021-08-05T02:50:23.778503Z",
     "iopub.status.busy": "2021-08-05T02:50:23.777843Z",
     "iopub.status.idle": "2021-08-05T02:50:23.786076Z",
     "shell.execute_reply": "2021-08-05T02:50:23.785511Z",
     "shell.execute_reply.started": "2021-08-05T02:45:39.917497Z"
    },
    "papermill": {
     "duration": 0.053823,
     "end_time": "2021-08-05T02:50:23.786235",
     "exception": false,
     "start_time": "2021-08-05T02:50:23.732412",
     "status": "completed"
    },
    "tags": []
   },
   "outputs": [
    {
     "data": {
      "application/javascript": [
       "parent.postMessage({\"jupyterEvent\": \"custom.exercise_interaction\", \"data\": {\"interactionType\": 3, \"questionType\": 2, \"questionId\": \"5.2_PlainDog\", \"learnToolsVersion\": \"0.3.4\", \"valueTowardsCompletion\": 0.0, \"failureMessage\": \"\", \"exceptionClass\": \"\", \"trace\": \"\", \"outcomeType\": 4}}, \"*\")"
      ],
      "text/plain": [
       "<IPython.core.display.Javascript object>"
      ]
     },
     "metadata": {},
     "output_type": "display_data"
    },
    {
     "data": {
      "text/markdown": [
       "<span style=\"color:#33cc99\">Solution:</span> One solution looks like:\n",
       "```python\n",
       "return not ketchup and not mustard and not onion\n",
       "```\n",
       "\n",
       "We can also [\"factor out\" the nots](https://en.wikipedia.org/wiki/De_Morgan%27s_laws) to get:\n",
       "\n",
       "```python\n",
       "return not (ketchup or mustard or onion)\n",
       "```"
      ],
      "text/plain": [
       "Solution: One solution looks like:\n",
       "```python\n",
       "return not ketchup and not mustard and not onion\n",
       "```\n",
       "\n",
       "We can also [\"factor out\" the nots](https://en.wikipedia.org/wiki/De_Morgan%27s_laws) to get:\n",
       "\n",
       "```python\n",
       "return not (ketchup or mustard or onion)\n",
       "```"
      ]
     },
     "metadata": {},
     "output_type": "display_data"
    }
   ],
   "source": [
    "#q5.b.hint()\n",
    "q5.b.solution()"
   ]
  },
  {
   "cell_type": "markdown",
   "id": "12d188a8",
   "metadata": {
    "papermill": {
     "duration": 0.044041,
     "end_time": "2021-08-05T02:50:23.874444",
     "exception": false,
     "start_time": "2021-08-05T02:50:23.830403",
     "status": "completed"
    },
    "tags": []
   },
   "source": [
    "# 5c.\n",
    "\n",
    "You know what to do: for the next function, fill in the body to match the English description in the docstring."
   ]
  },
  {
   "cell_type": "code",
   "execution_count": 17,
   "id": "781f207d",
   "metadata": {
    "execution": {
     "iopub.execute_input": "2021-08-05T02:50:23.969553Z",
     "iopub.status.busy": "2021-08-05T02:50:23.968901Z",
     "iopub.status.idle": "2021-08-05T02:50:23.974782Z",
     "shell.execute_reply": "2021-08-05T02:50:23.974193Z",
     "shell.execute_reply.started": "2021-08-05T02:47:38.887958Z"
    },
    "papermill": {
     "duration": 0.054998,
     "end_time": "2021-08-05T02:50:23.974925",
     "exception": false,
     "start_time": "2021-08-05T02:50:23.919927",
     "status": "completed"
    },
    "tags": []
   },
   "outputs": [
    {
     "data": {
      "application/javascript": [
       "parent.postMessage({\"jupyterEvent\": \"custom.exercise_interaction\", \"data\": {\"outcomeType\": 1, \"valueTowardsCompletion\": 0.2, \"interactionType\": 1, \"questionType\": 2, \"questionId\": \"5.3_OneSauce\", \"learnToolsVersion\": \"0.3.4\", \"failureMessage\": \"\", \"exceptionClass\": \"\", \"trace\": \"\"}}, \"*\")"
      ],
      "text/plain": [
       "<IPython.core.display.Javascript object>"
      ]
     },
     "metadata": {},
     "output_type": "display_data"
    },
    {
     "data": {
      "text/markdown": [
       "<span style=\"color:#33cc33\">Correct</span>"
      ],
      "text/plain": [
       "Correct"
      ]
     },
     "metadata": {},
     "output_type": "display_data"
    }
   ],
   "source": [
    "def exactly_one_sauce(ketchup, mustard, onion):\n",
    "    \"\"\"Return whether the customer wants either ketchup or mustard, but not both.\n",
    "    (You may be familiar with this operation under the name \"exclusive or\")\n",
    "    \"\"\"\n",
    "    return (ketchup and not mustard) or (mustard and not ketchup)\n",
    "\n",
    "# Check your answer\n",
    "q5.c.check()"
   ]
  },
  {
   "cell_type": "code",
   "execution_count": 18,
   "id": "2ed6fd39",
   "metadata": {
    "execution": {
     "iopub.execute_input": "2021-08-05T02:50:24.067615Z",
     "iopub.status.busy": "2021-08-05T02:50:24.066978Z",
     "iopub.status.idle": "2021-08-05T02:50:24.072951Z",
     "shell.execute_reply": "2021-08-05T02:50:24.073460Z",
     "shell.execute_reply.started": "2021-08-05T02:46:38.604058Z"
    },
    "papermill": {
     "duration": 0.054374,
     "end_time": "2021-08-05T02:50:24.073626",
     "exception": false,
     "start_time": "2021-08-05T02:50:24.019252",
     "status": "completed"
    },
    "tags": []
   },
   "outputs": [
    {
     "data": {
      "application/javascript": [
       "parent.postMessage({\"jupyterEvent\": \"custom.exercise_interaction\", \"data\": {\"interactionType\": 3, \"questionType\": 2, \"questionId\": \"5.3_OneSauce\", \"learnToolsVersion\": \"0.3.4\", \"valueTowardsCompletion\": 0.0, \"failureMessage\": \"\", \"exceptionClass\": \"\", \"trace\": \"\", \"outcomeType\": 4}}, \"*\")"
      ],
      "text/plain": [
       "<IPython.core.display.Javascript object>"
      ]
     },
     "metadata": {},
     "output_type": "display_data"
    },
    {
     "data": {
      "text/markdown": [
       "<span style=\"color:#33cc99\">Solution:</span> \n",
       "```python\n",
       "return (ketchup and not mustard) or (mustard and not ketchup)\n",
       "```"
      ],
      "text/plain": [
       "Solution: \n",
       "```python\n",
       "return (ketchup and not mustard) or (mustard and not ketchup)\n",
       "```"
      ]
     },
     "metadata": {},
     "output_type": "display_data"
    }
   ],
   "source": [
    "#q5.c.hint()\n",
    "q5.c.solution()"
   ]
  },
  {
   "cell_type": "markdown",
   "id": "5055ac48",
   "metadata": {
    "papermill": {
     "duration": 0.04474,
     "end_time": "2021-08-05T02:50:24.164615",
     "exception": false,
     "start_time": "2021-08-05T02:50:24.119875",
     "status": "completed"
    },
    "tags": []
   },
   "source": [
    "# 6. <span title=\"A bit spicy\" style=\"color: darkgreen \">🌶️</span>\n",
    "\n",
    "We’ve seen that calling `bool()` on an integer returns `False` if it’s equal to 0 and `True` otherwise. What happens if we call `int()` on a bool? Try it out in the notebook cell below.\n",
    "\n",
    "Can you take advantage of this to write a succinct function that corresponds to the English sentence \"does the customer want exactly one topping?\"?"
   ]
  },
  {
   "cell_type": "code",
   "execution_count": 19,
   "id": "0cde0078",
   "metadata": {
    "execution": {
     "iopub.execute_input": "2021-08-05T02:50:24.261639Z",
     "iopub.status.busy": "2021-08-05T02:50:24.260997Z",
     "iopub.status.idle": "2021-08-05T02:50:24.265567Z",
     "shell.execute_reply": "2021-08-05T02:50:24.266092Z",
     "shell.execute_reply.started": "2021-08-05T02:49:51.944858Z"
    },
    "papermill": {
     "duration": 0.056676,
     "end_time": "2021-08-05T02:50:24.266261",
     "exception": false,
     "start_time": "2021-08-05T02:50:24.209585",
     "status": "completed"
    },
    "tags": []
   },
   "outputs": [
    {
     "data": {
      "application/javascript": [
       "parent.postMessage({\"jupyterEvent\": \"custom.exercise_interaction\", \"data\": {\"outcomeType\": 1, \"valueTowardsCompletion\": 0.2, \"interactionType\": 1, \"questionType\": 2, \"questionId\": \"6_OneTopping\", \"learnToolsVersion\": \"0.3.4\", \"failureMessage\": \"\", \"exceptionClass\": \"\", \"trace\": \"\"}}, \"*\")"
      ],
      "text/plain": [
       "<IPython.core.display.Javascript object>"
      ]
     },
     "metadata": {},
     "output_type": "display_data"
    },
    {
     "data": {
      "text/markdown": [
       "<span style=\"color:#33cc33\">Correct:</span> \n",
       "\n",
       "This condition would be pretty complicated to express using just `and`, `or` and `not`, but using boolean-to-integer conversion gives us this short solution:\n",
       "```python\n",
       "return (int(ketchup) + int(mustard) + int(onion)) == 1\n",
       "```\n",
       "\n",
       "Fun fact: we don't technically need to call `int` on the arguments. Just by doing addition with booleans, Python implicitly does the integer conversion. So we could also write...\n",
       "\n",
       "```python\n",
       "return (ketchup + mustard + onion) == 1\n",
       "```"
      ],
      "text/plain": [
       "Correct: \n",
       "\n",
       "This condition would be pretty complicated to express using just `and`, `or` and `not`, but using boolean-to-integer conversion gives us this short solution:\n",
       "```python\n",
       "return (int(ketchup) + int(mustard) + int(onion)) == 1\n",
       "```\n",
       "\n",
       "Fun fact: we don't technically need to call `int` on the arguments. Just by doing addition with booleans, Python implicitly does the integer conversion. So we could also write...\n",
       "\n",
       "```python\n",
       "return (ketchup + mustard + onion) == 1\n",
       "```"
      ]
     },
     "metadata": {},
     "output_type": "display_data"
    }
   ],
   "source": [
    "def exactly_one_topping(ketchup, mustard, onion):\n",
    "    \"\"\"Return whether the customer wants exactly one of the three available toppings\n",
    "    on their hot dog.\n",
    "    \"\"\"\n",
    "    return int((ketchup and not mustard and not onion) or (mustard and not ketchup and not onion) or (onion and not ketchup and not mustard))\n",
    "\n",
    "# Check your answer\n",
    "q6.check()"
   ]
  },
  {
   "cell_type": "code",
   "execution_count": 20,
   "id": "ea079859",
   "metadata": {
    "execution": {
     "iopub.execute_input": "2021-08-05T02:50:24.362039Z",
     "iopub.status.busy": "2021-08-05T02:50:24.361350Z",
     "iopub.status.idle": "2021-08-05T02:50:24.364435Z",
     "shell.execute_reply": "2021-08-05T02:50:24.364946Z"
    },
    "papermill": {
     "duration": 0.052245,
     "end_time": "2021-08-05T02:50:24.365109",
     "exception": false,
     "start_time": "2021-08-05T02:50:24.312864",
     "status": "completed"
    },
    "tags": []
   },
   "outputs": [],
   "source": [
    "#q6.hint()\n",
    "#q6.solution()"
   ]
  },
  {
   "cell_type": "markdown",
   "id": "1d918444",
   "metadata": {
    "papermill": {
     "duration": 0.046314,
     "end_time": "2021-08-05T02:50:24.458537",
     "exception": false,
     "start_time": "2021-08-05T02:50:24.412223",
     "status": "completed"
    },
    "tags": []
   },
   "source": [
    "# 7. <span title=\"A bit spicy\" style=\"color: darkgreen \">🌶️</span> (Optional)\n",
    "\n",
    "In this problem we'll be working with a simplified version of [blackjack](https://en.wikipedia.org/wiki/Blackjack) (aka twenty-one). In this version there is one player (who you'll control) and a dealer. Play proceeds as follows:\n",
    "\n",
    "- The player is dealt two face-up cards. The dealer is dealt one face-up card.\n",
    "- The player may ask to be dealt another card ('hit') as many times as they wish. If the sum of their cards exceeds 21, they lose the round immediately.\n",
    "- The dealer then deals additional cards to himself until either:\n",
    "    - the sum of the dealer's cards exceeds 21, in which case the player wins the round\n",
    "    - the sum of the dealer's cards is greater than or equal to 17. If the player's total is greater than the dealer's, the player wins. Otherwise, the dealer wins (even in case of a tie).\n",
    "    \n",
    "When calculating the sum of cards, Jack, Queen, and King count for 10. Aces can count as 1 or 11 (when referring to a player's \"total\" above, we mean the largest total that can be made without exceeding 21. So e.g. A+8 = 19, A+8+8 = 17)\n",
    "\n",
    "For this problem, you'll write a function representing the player's decision-making strategy in this game. We've provided a very unintelligent implementation below:"
   ]
  },
  {
   "cell_type": "code",
   "execution_count": 21,
   "id": "6a06413b",
   "metadata": {
    "execution": {
     "iopub.execute_input": "2021-08-05T02:50:24.554630Z",
     "iopub.status.busy": "2021-08-05T02:50:24.554004Z",
     "iopub.status.idle": "2021-08-05T02:50:24.558238Z",
     "shell.execute_reply": "2021-08-05T02:50:24.558824Z"
    },
    "papermill": {
     "duration": 0.053804,
     "end_time": "2021-08-05T02:50:24.558997",
     "exception": false,
     "start_time": "2021-08-05T02:50:24.505193",
     "status": "completed"
    },
    "tags": []
   },
   "outputs": [],
   "source": [
    "def should_hit(dealer_total, player_total, player_low_aces, player_high_aces):\n",
    "    \"\"\"Return True if the player should hit (request another card) given the current game\n",
    "    state, or False if the player should stay.\n",
    "    When calculating a hand's total value, we count aces as \"high\" (with value 11) if doing so\n",
    "    doesn't bring the total above 21, otherwise we count them as low (with value 1). \n",
    "    For example, if the player's hand is {A, A, A, 7}, we will count it as 11 + 1 + 1 + 7,\n",
    "    and therefore set player_total=20, player_low_aces=2, player_high_aces=1.\n",
    "    \"\"\"\n",
    "    return False"
   ]
  },
  {
   "cell_type": "markdown",
   "id": "8ff8a4ee",
   "metadata": {
    "papermill": {
     "duration": 0.046361,
     "end_time": "2021-08-05T02:50:24.651950",
     "exception": false,
     "start_time": "2021-08-05T02:50:24.605589",
     "status": "completed"
    },
    "tags": []
   },
   "source": [
    "This very conservative agent *always* sticks with the hand of two cards that they're dealt.\n",
    "\n",
    "We'll be simulating games between your player agent and our own dealer agent by calling your function.\n",
    "\n",
    "Try running the function below to see an example of a simulated game:"
   ]
  },
  {
   "cell_type": "code",
   "execution_count": 22,
   "id": "7ad1b03b",
   "metadata": {
    "execution": {
     "iopub.execute_input": "2021-08-05T02:50:24.747376Z",
     "iopub.status.busy": "2021-08-05T02:50:24.746767Z",
     "iopub.status.idle": "2021-08-05T02:50:24.754204Z",
     "shell.execute_reply": "2021-08-05T02:50:24.753421Z"
    },
    "papermill": {
     "duration": 0.05616,
     "end_time": "2021-08-05T02:50:24.754357",
     "exception": false,
     "start_time": "2021-08-05T02:50:24.698197",
     "status": "completed"
    },
    "tags": []
   },
   "outputs": [
    {
     "name": "stdout",
     "output_type": "stream",
     "text": [
      "Player starts with A and 4 (total = 15)\n",
      "Dealer starts with 3\n",
      "\n",
      "__Player's turn__\n",
      "Player stays\n",
      "\n",
      "__Dealer's turn__\n",
      "Dealer hits and receives Q. (total = 13)\n",
      "Dealer hits and receives Q. (total = 23)\n",
      "Dealer busts! Player wins.\n"
     ]
    }
   ],
   "source": [
    "q7.simulate_one_game()"
   ]
  },
  {
   "cell_type": "markdown",
   "id": "a9dd1cc5",
   "metadata": {
    "papermill": {
     "duration": 0.046829,
     "end_time": "2021-08-05T02:50:24.848786",
     "exception": false,
     "start_time": "2021-08-05T02:50:24.801957",
     "status": "completed"
    },
    "tags": []
   },
   "source": [
    "The real test of your agent's mettle is their average win rate over many games. Try calling the function below to simulate 50000 games of blackjack (it may take a couple seconds):"
   ]
  },
  {
   "cell_type": "code",
   "execution_count": 23,
   "id": "b69131f6",
   "metadata": {
    "execution": {
     "iopub.execute_input": "2021-08-05T02:50:24.966706Z",
     "iopub.status.busy": "2021-08-05T02:50:24.961764Z",
     "iopub.status.idle": "2021-08-05T02:50:26.973325Z",
     "shell.execute_reply": "2021-08-05T02:50:26.972755Z"
    },
    "papermill": {
     "duration": 2.07758,
     "end_time": "2021-08-05T02:50:26.973474",
     "exception": false,
     "start_time": "2021-08-05T02:50:24.895894",
     "status": "completed"
    },
    "tags": []
   },
   "outputs": [
    {
     "name": "stdout",
     "output_type": "stream",
     "text": [
      "Player won 19161 out of 50000 games (win rate = 38.3%)\n"
     ]
    }
   ],
   "source": [
    "q7.simulate(n_games=50000)"
   ]
  },
  {
   "cell_type": "markdown",
   "id": "0837a26f",
   "metadata": {
    "papermill": {
     "duration": 0.049303,
     "end_time": "2021-08-05T02:50:27.070787",
     "exception": false,
     "start_time": "2021-08-05T02:50:27.021484",
     "status": "completed"
    },
    "tags": []
   },
   "source": [
    "Our dumb agent that completely ignores the game state still manages to win shockingly often!\n",
    "\n",
    "Try adding some more smarts to the `should_hit` function and see how it affects the results."
   ]
  },
  {
   "cell_type": "code",
   "execution_count": 24,
   "id": "35c0f163",
   "metadata": {
    "execution": {
     "iopub.execute_input": "2021-08-05T02:50:27.190206Z",
     "iopub.status.busy": "2021-08-05T02:50:27.185222Z",
     "iopub.status.idle": "2021-08-05T02:50:29.153709Z",
     "shell.execute_reply": "2021-08-05T02:50:29.154207Z"
    },
    "papermill": {
     "duration": 2.035719,
     "end_time": "2021-08-05T02:50:29.154375",
     "exception": false,
     "start_time": "2021-08-05T02:50:27.118656",
     "status": "completed"
    },
    "tags": []
   },
   "outputs": [
    {
     "name": "stdout",
     "output_type": "stream",
     "text": [
      "Player won 18971 out of 50000 games (win rate = 37.9%)\n"
     ]
    }
   ],
   "source": [
    "def should_hit(dealer_total, player_total, player_low_aces, player_high_aces):\n",
    "    \"\"\"Return True if the player should hit (request another card) given the current game\n",
    "    state, or False if the player should stay.\n",
    "    When calculating a hand's total value, we count aces as \"high\" (with value 11) if doing so\n",
    "    doesn't bring the total above 21, otherwise we count them as low (with value 1). \n",
    "    For example, if the player's hand is {A, A, A, 7}, we will count it as 11 + 1 + 1 + 7,\n",
    "    and therefore set player_total=20, player_low_aces=2, player_high_aces=1.\n",
    "    \"\"\"\n",
    "    return False\n",
    "\n",
    "q7.simulate(n_games=50000)"
   ]
  },
  {
   "cell_type": "markdown",
   "id": "29410663",
   "metadata": {
    "papermill": {
     "duration": 0.048383,
     "end_time": "2021-08-05T02:50:29.251433",
     "exception": false,
     "start_time": "2021-08-05T02:50:29.203050",
     "status": "completed"
    },
    "tags": []
   },
   "source": [
    "# Keep Going\n",
    "\n",
    "Learn about **[lists and tuples](https://www.kaggle.com/colinmorris/lists)** to handle multiple items of data in a systematic way."
   ]
  },
  {
   "cell_type": "markdown",
   "id": "ab290cef",
   "metadata": {
    "papermill": {
     "duration": 0.051016,
     "end_time": "2021-08-05T02:50:29.351043",
     "exception": false,
     "start_time": "2021-08-05T02:50:29.300027",
     "status": "completed"
    },
    "tags": []
   },
   "source": [
    "---\n",
    "\n",
    "\n",
    "\n",
    "\n",
    "*Have questions or comments? Visit the [Learn Discussion forum](https://www.kaggle.com/learn-forum/161283) to chat with other Learners.*"
   ]
  }
 ],
 "metadata": {
  "kernelspec": {
   "display_name": "Python 3",
   "language": "python",
   "name": "python3"
  },
  "language_info": {
   "codemirror_mode": {
    "name": "ipython",
    "version": 3
   },
   "file_extension": ".py",
   "mimetype": "text/x-python",
   "name": "python",
   "nbconvert_exporter": "python",
   "pygments_lexer": "ipython3",
   "version": "3.7.10"
  },
  "papermill": {
   "default_parameters": {},
   "duration": 16.833387,
   "end_time": "2021-08-05T02:50:30.009779",
   "environment_variables": {},
   "exception": null,
   "input_path": "__notebook__.ipynb",
   "output_path": "__notebook__.ipynb",
   "parameters": {},
   "start_time": "2021-08-05T02:50:13.176392",
   "version": "2.3.3"
  }
 },
 "nbformat": 4,
 "nbformat_minor": 5
}
