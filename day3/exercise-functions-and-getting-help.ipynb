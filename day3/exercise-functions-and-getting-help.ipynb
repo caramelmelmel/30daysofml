{
 "cells": [
  {
   "cell_type": "markdown",
   "id": "867f9692",
   "metadata": {
    "papermill": {
     "duration": 0.014436,
     "end_time": "2021-08-04T01:40:15.272441",
     "exception": false,
     "start_time": "2021-08-04T01:40:15.258005",
     "status": "completed"
    },
    "tags": []
   },
   "source": [
    "**This notebook is an exercise in the [Python](https://www.kaggle.com/learn/python) course.  You can reference the tutorial at [this link](https://www.kaggle.com/colinmorris/functions-and-getting-help).**\n",
    "\n",
    "---\n"
   ]
  },
  {
   "cell_type": "markdown",
   "id": "44515ad7",
   "metadata": {
    "papermill": {
     "duration": 0.014644,
     "end_time": "2021-08-04T01:40:15.301700",
     "exception": false,
     "start_time": "2021-08-04T01:40:15.287056",
     "status": "completed"
    },
    "tags": []
   },
   "source": [
    "Functions are powerful. Try writing some yourself.\n",
    "\n",
    "As before, don't forget to run the setup code below before jumping into question 1."
   ]
  },
  {
   "cell_type": "code",
   "execution_count": 1,
   "id": "a6a0ea59",
   "metadata": {
    "_kg_hide-input": true,
    "_kg_hide-output": true,
    "execution": {
     "iopub.execute_input": "2021-08-04T01:40:15.339371Z",
     "iopub.status.busy": "2021-08-04T01:40:15.337443Z",
     "iopub.status.idle": "2021-08-04T01:40:15.497661Z",
     "shell.execute_reply": "2021-08-04T01:40:15.496762Z",
     "shell.execute_reply.started": "2021-08-04T01:33:16.809585Z"
    },
    "papermill": {
     "duration": 0.179422,
     "end_time": "2021-08-04T01:40:15.497846",
     "exception": false,
     "start_time": "2021-08-04T01:40:15.318424",
     "status": "completed"
    },
    "tags": []
   },
   "outputs": [
    {
     "name": "stdout",
     "output_type": "stream",
     "text": [
      "Setup complete.\n"
     ]
    }
   ],
   "source": [
    "# SETUP. You don't need to worry for now about what this code does or how it works.\n",
    "from learntools.core import binder; binder.bind(globals())\n",
    "from learntools.python.ex2 import *\n",
    "print('Setup complete.')"
   ]
  },
  {
   "cell_type": "markdown",
   "id": "402813fa",
   "metadata": {
    "papermill": {
     "duration": 0.016528,
     "end_time": "2021-08-04T01:40:15.530817",
     "exception": false,
     "start_time": "2021-08-04T01:40:15.514289",
     "status": "completed"
    },
    "tags": []
   },
   "source": [
    "# 1.\n",
    "\n",
    "Complete the body of the following function according to its docstring.\n",
    "\n",
    "HINT: Python has a built-in function `round`."
   ]
  },
  {
   "cell_type": "code",
   "execution_count": 2,
   "id": "57c76e78",
   "metadata": {
    "execution": {
     "iopub.execute_input": "2021-08-04T01:40:15.573085Z",
     "iopub.status.busy": "2021-08-04T01:40:15.571900Z",
     "iopub.status.idle": "2021-08-04T01:40:15.578413Z",
     "shell.execute_reply": "2021-08-04T01:40:15.577894Z",
     "shell.execute_reply.started": "2021-08-04T01:33:32.593867Z"
    },
    "papermill": {
     "duration": 0.031698,
     "end_time": "2021-08-04T01:40:15.578588",
     "exception": false,
     "start_time": "2021-08-04T01:40:15.546890",
     "status": "completed"
    },
    "tags": []
   },
   "outputs": [
    {
     "data": {
      "application/javascript": [
       "parent.postMessage({\"jupyterEvent\": \"custom.exercise_interaction\", \"data\": {\"outcomeType\": 1, \"valueTowardsCompletion\": 0.16666666666666666, \"interactionType\": 1, \"questionType\": 2, \"questionId\": \"1_RoundFunctionProblem\", \"learnToolsVersion\": \"0.3.4\", \"failureMessage\": \"\", \"exceptionClass\": \"\", \"trace\": \"\"}}, \"*\")"
      ],
      "text/plain": [
       "<IPython.core.display.Javascript object>"
      ]
     },
     "metadata": {},
     "output_type": "display_data"
    },
    {
     "data": {
      "text/markdown": [
       "<span style=\"color:#33cc33\">Correct</span>"
      ],
      "text/plain": [
       "Correct"
      ]
     },
     "metadata": {},
     "output_type": "display_data"
    }
   ],
   "source": [
    "def round_to_two_places(num):\n",
    "    \"\"\"Return the given number rounded to two decimal places. \n",
    "    \n",
    "    >>> round_to_two_places(3.14159)\n",
    "    3.14\n",
    "    \"\"\"\n",
    "    return round(num,2)\n",
    "    # Replace this body with your own code.\n",
    "    # (\"pass\" is a keyword that does literally nothing. We used it as a placeholder\n",
    "    # because after we begin a code block, Python requires at least one line of code)\n",
    "    \n",
    "\n",
    "# Check your answer\n",
    "q1.check()"
   ]
  },
  {
   "cell_type": "code",
   "execution_count": 3,
   "id": "c97d79a7",
   "metadata": {
    "execution": {
     "iopub.execute_input": "2021-08-04T01:40:15.614516Z",
     "iopub.status.busy": "2021-08-04T01:40:15.613745Z",
     "iopub.status.idle": "2021-08-04T01:40:15.617378Z",
     "shell.execute_reply": "2021-08-04T01:40:15.616615Z"
    },
    "papermill": {
     "duration": 0.024171,
     "end_time": "2021-08-04T01:40:15.617553",
     "exception": false,
     "start_time": "2021-08-04T01:40:15.593382",
     "status": "completed"
    },
    "tags": []
   },
   "outputs": [],
   "source": [
    "# Uncomment the following for a hint\n",
    "#q1.hint()\n",
    "# Or uncomment the following to peek at the solution\n",
    "#q1.solution()"
   ]
  },
  {
   "cell_type": "markdown",
   "id": "6a3c126c",
   "metadata": {
    "papermill": {
     "duration": 0.016363,
     "end_time": "2021-08-04T01:40:15.650099",
     "exception": false,
     "start_time": "2021-08-04T01:40:15.633736",
     "status": "completed"
    },
    "tags": []
   },
   "source": [
    "# 2.\n",
    "The help for `round` says that `ndigits` (the second argument) may be negative.\n",
    "What do you think will happen when it is? Try some examples in the following cell."
   ]
  },
  {
   "cell_type": "code",
   "execution_count": 4,
   "id": "5c60ffe8",
   "metadata": {
    "execution": {
     "iopub.execute_input": "2021-08-04T01:40:15.690071Z",
     "iopub.status.busy": "2021-08-04T01:40:15.688668Z",
     "iopub.status.idle": "2021-08-04T01:40:15.693230Z",
     "shell.execute_reply": "2021-08-04T01:40:15.693731Z",
     "shell.execute_reply.started": "2021-08-04T01:35:36.027674Z"
    },
    "papermill": {
     "duration": 0.026814,
     "end_time": "2021-08-04T01:40:15.693914",
     "exception": false,
     "start_time": "2021-08-04T01:40:15.667100",
     "status": "completed"
    },
    "tags": []
   },
   "outputs": [
    {
     "name": "stdout",
     "output_type": "stream",
     "text": [
      "39500.0\n"
     ]
    }
   ],
   "source": [
    "# Put your test code here\n",
    "round(round_to_two_places(39542.03947592),-1)\n",
    "print(round(round_to_two_places(39542.03947592),-2))\n"
   ]
  },
  {
   "cell_type": "markdown",
   "id": "c0e25f9d",
   "metadata": {
    "papermill": {
     "duration": 0.015701,
     "end_time": "2021-08-04T01:40:15.725696",
     "exception": false,
     "start_time": "2021-08-04T01:40:15.709995",
     "status": "completed"
    },
    "tags": []
   },
   "source": [
    "Can you think of a case where this would be useful?  Once you're ready, run the code cell below to see the answer and to receive credit for completing the problem."
   ]
  },
  {
   "cell_type": "code",
   "execution_count": 5,
   "id": "a24a5fec",
   "metadata": {
    "execution": {
     "iopub.execute_input": "2021-08-04T01:40:15.764661Z",
     "iopub.status.busy": "2021-08-04T01:40:15.762902Z",
     "iopub.status.idle": "2021-08-04T01:40:15.770998Z",
     "shell.execute_reply": "2021-08-04T01:40:15.770365Z",
     "shell.execute_reply.started": "2021-08-04T01:35:12.657965Z"
    },
    "papermill": {
     "duration": 0.030084,
     "end_time": "2021-08-04T01:40:15.771204",
     "exception": false,
     "start_time": "2021-08-04T01:40:15.741120",
     "status": "completed"
    },
    "tags": []
   },
   "outputs": [
    {
     "data": {
      "application/javascript": [
       "parent.postMessage({\"jupyterEvent\": \"custom.exercise_interaction\", \"data\": {\"interactionType\": 3, \"questionType\": 4, \"questionId\": \"2_RoundNdigitsProblem\", \"learnToolsVersion\": \"0.3.4\", \"valueTowardsCompletion\": 0.0, \"failureMessage\": \"\", \"exceptionClass\": \"\", \"trace\": \"\", \"outcomeType\": 4}}, \"*\")"
      ],
      "text/plain": [
       "<IPython.core.display.Javascript object>"
      ]
     },
     "metadata": {},
     "output_type": "display_data"
    },
    {
     "data": {
      "text/markdown": [
       "<span style=\"color:#33cc99\">Solution:</span> As you've seen, `ndigits=-1` rounds to the nearest 10, `ndigits=-2` rounds to the nearest 100 and so on. Where might this be useful? Suppose we're dealing with large numbers:\n",
       "\n",
       "> The area of Finland is 338,424 km²  \n",
       "> The area of Greenland is 2,166,086 km²\n",
       "\n",
       "We probably don't care whether it's really 338,424, or 338,425, or 338,177. All those digits of accuracy are just distracting. We can chop them off by calling `round()` with `ndigits=-3`:\n",
       "\n",
       "> The area of Finland is 338,000 km²  \n",
       "> The area of Greenland is 2,166,000 km²\n",
       "\n",
       "(We'll talk about how we would get the commas later when we talk about string formatting :))\n"
      ],
      "text/plain": [
       "Solution: As you've seen, `ndigits=-1` rounds to the nearest 10, `ndigits=-2` rounds to the nearest 100 and so on. Where might this be useful? Suppose we're dealing with large numbers:\n",
       "\n",
       "> The area of Finland is 338,424 km²  \n",
       "> The area of Greenland is 2,166,086 km²\n",
       "\n",
       "We probably don't care whether it's really 338,424, or 338,425, or 338,177. All those digits of accuracy are just distracting. We can chop them off by calling `round()` with `ndigits=-3`:\n",
       "\n",
       "> The area of Finland is 338,000 km²  \n",
       "> The area of Greenland is 2,166,000 km²\n",
       "\n",
       "(We'll talk about how we would get the commas later when we talk about string formatting :))"
      ]
     },
     "metadata": {},
     "output_type": "display_data"
    }
   ],
   "source": [
    "# Check your answer (Run this code cell to receive credit!)\n",
    "q2.solution()"
   ]
  },
  {
   "cell_type": "markdown",
   "id": "aee95cf3",
   "metadata": {
    "papermill": {
     "duration": 0.019704,
     "end_time": "2021-08-04T01:40:15.809488",
     "exception": false,
     "start_time": "2021-08-04T01:40:15.789784",
     "status": "completed"
    },
    "tags": []
   },
   "source": [
    "# 3.\n",
    "\n",
    "In the previous exercise, the candy-sharing friends Alice, Bob and Carol tried to split candies evenly. For the sake of their friendship, any candies left over would be smashed. For example, if they collectively bring home 91 candies, they'll take 30 each and smash 1.\n",
    "\n",
    "Below is a simple function that will calculate the number of candies to smash for *any* number of total candies.\n",
    "\n",
    "Modify it so that it optionally takes a second argument representing the number of friends the candies are being split between. If no second argument is provided, it should assume 3 friends, as before.\n",
    "\n",
    "Update the docstring to reflect this new behaviour."
   ]
  },
  {
   "cell_type": "code",
   "execution_count": 6,
   "id": "14cc203b",
   "metadata": {
    "execution": {
     "iopub.execute_input": "2021-08-04T01:40:15.855503Z",
     "iopub.status.busy": "2021-08-04T01:40:15.854746Z",
     "iopub.status.idle": "2021-08-04T01:40:15.864218Z",
     "shell.execute_reply": "2021-08-04T01:40:15.863638Z",
     "shell.execute_reply.started": "2021-08-04T01:39:37.414095Z"
    },
    "papermill": {
     "duration": 0.034884,
     "end_time": "2021-08-04T01:40:15.864424",
     "exception": false,
     "start_time": "2021-08-04T01:40:15.829540",
     "status": "completed"
    },
    "tags": []
   },
   "outputs": [
    {
     "name": "stdout",
     "output_type": "stream",
     "text": [
      "0\n"
     ]
    },
    {
     "data": {
      "application/javascript": [
       "parent.postMessage({\"jupyterEvent\": \"custom.exercise_interaction\", \"data\": {\"outcomeType\": 1, \"valueTowardsCompletion\": 0.16666666666666666, \"interactionType\": 1, \"questionType\": 2, \"questionId\": \"3_CandySmashingFunctionProblem\", \"learnToolsVersion\": \"0.3.4\", \"failureMessage\": \"\", \"exceptionClass\": \"\", \"trace\": \"\"}}, \"*\")"
      ],
      "text/plain": [
       "<IPython.core.display.Javascript object>"
      ]
     },
     "metadata": {},
     "output_type": "display_data"
    },
    {
     "data": {
      "text/markdown": [
       "<span style=\"color:#33cc33\">Correct</span>"
      ],
      "text/plain": [
       "Correct"
      ]
     },
     "metadata": {},
     "output_type": "display_data"
    }
   ],
   "source": [
    "def to_smash(total_candies,num_friends=3):\n",
    "    \"\"\"Return the number of leftover candies that must be smashed after distributing\n",
    "    the given number of candies evenly between 3 friends.\n",
    "    \n",
    "    >>> to_smash(91)\n",
    "    1\n",
    "    \"\"\"\n",
    "    return total_candies % num_friends\n",
    "\n",
    "# Check your answer\n",
    "print(to_smash(30000,10))\n",
    "q3.check()"
   ]
  },
  {
   "cell_type": "code",
   "execution_count": 7,
   "id": "92dced1e",
   "metadata": {
    "execution": {
     "iopub.execute_input": "2021-08-04T01:40:15.906949Z",
     "iopub.status.busy": "2021-08-04T01:40:15.905917Z",
     "iopub.status.idle": "2021-08-04T01:40:15.910438Z",
     "shell.execute_reply": "2021-08-04T01:40:15.909782Z"
    },
    "papermill": {
     "duration": 0.026439,
     "end_time": "2021-08-04T01:40:15.910600",
     "exception": false,
     "start_time": "2021-08-04T01:40:15.884161",
     "status": "completed"
    },
    "tags": []
   },
   "outputs": [],
   "source": [
    "#q3.hint()"
   ]
  },
  {
   "cell_type": "code",
   "execution_count": 8,
   "id": "d8b0e28a",
   "metadata": {
    "execution": {
     "iopub.execute_input": "2021-08-04T01:40:15.958135Z",
     "iopub.status.busy": "2021-08-04T01:40:15.957260Z",
     "iopub.status.idle": "2021-08-04T01:40:15.961410Z",
     "shell.execute_reply": "2021-08-04T01:40:15.960880Z"
    },
    "papermill": {
     "duration": 0.031539,
     "end_time": "2021-08-04T01:40:15.961571",
     "exception": false,
     "start_time": "2021-08-04T01:40:15.930032",
     "status": "completed"
    },
    "tags": []
   },
   "outputs": [],
   "source": [
    "#q3.solution()"
   ]
  },
  {
   "cell_type": "markdown",
   "id": "b9d6d289",
   "metadata": {
    "papermill": {
     "duration": 0.020699,
     "end_time": "2021-08-04T01:40:16.002640",
     "exception": false,
     "start_time": "2021-08-04T01:40:15.981941",
     "status": "completed"
    },
    "tags": []
   },
   "source": [
    "# 4. (Optional)\n",
    "\n",
    "It may not be fun, but reading and understanding error messages will be an important part of your Python career.\n",
    "\n",
    "Each code cell below contains some commented buggy code. For each cell...\n",
    "\n",
    "1. Read the code and predict what you think will happen when it's run.\n",
    "2. Then uncomment the code and run it to see what happens. (**Tip**: In the kernel editor, you can highlight several lines and press `ctrl`+`/` to toggle commenting.)\n",
    "3. Fix the code (so that it accomplishes its intended purpose without throwing an exception)\n",
    "\n",
    "<!-- TODO: should this be autochecked? Delta is probably pretty small. -->"
   ]
  },
  {
   "cell_type": "code",
   "execution_count": 9,
   "id": "6cef909b",
   "metadata": {
    "execution": {
     "iopub.execute_input": "2021-08-04T01:40:16.047648Z",
     "iopub.status.busy": "2021-08-04T01:40:16.046541Z",
     "iopub.status.idle": "2021-08-04T01:40:16.050580Z",
     "shell.execute_reply": "2021-08-04T01:40:16.049985Z"
    },
    "papermill": {
     "duration": 0.028213,
     "end_time": "2021-08-04T01:40:16.050745",
     "exception": false,
     "start_time": "2021-08-04T01:40:16.022532",
     "status": "completed"
    },
    "tags": []
   },
   "outputs": [],
   "source": [
    "# ruound_to_two_places(9.9999)"
   ]
  },
  {
   "cell_type": "code",
   "execution_count": 10,
   "id": "ccb9078f",
   "metadata": {
    "execution": {
     "iopub.execute_input": "2021-08-04T01:40:16.093044Z",
     "iopub.status.busy": "2021-08-04T01:40:16.092311Z",
     "iopub.status.idle": "2021-08-04T01:40:16.095286Z",
     "shell.execute_reply": "2021-08-04T01:40:16.094756Z"
    },
    "papermill": {
     "duration": 0.02456,
     "end_time": "2021-08-04T01:40:16.095426",
     "exception": false,
     "start_time": "2021-08-04T01:40:16.070866",
     "status": "completed"
    },
    "tags": []
   },
   "outputs": [],
   "source": [
    "# x = -10\n",
    "# y = 5\n",
    "# # Which of the two variables above has the smallest absolute value?\n",
    "# smallest_abs = min(abs(x, y))"
   ]
  },
  {
   "cell_type": "code",
   "execution_count": 11,
   "id": "a96240d4",
   "metadata": {
    "execution": {
     "iopub.execute_input": "2021-08-04T01:40:16.139234Z",
     "iopub.status.busy": "2021-08-04T01:40:16.138418Z",
     "iopub.status.idle": "2021-08-04T01:40:16.141274Z",
     "shell.execute_reply": "2021-08-04T01:40:16.141804Z"
    },
    "papermill": {
     "duration": 0.028231,
     "end_time": "2021-08-04T01:40:16.142033",
     "exception": false,
     "start_time": "2021-08-04T01:40:16.113802",
     "status": "completed"
    },
    "tags": []
   },
   "outputs": [],
   "source": [
    "# def f(x):\n",
    "#     y = abs(x)\n",
    "# return y\n",
    "\n",
    "# print(f(5))"
   ]
  },
  {
   "cell_type": "markdown",
   "id": "e64afef1",
   "metadata": {
    "papermill": {
     "duration": 0.019721,
     "end_time": "2021-08-04T01:40:16.181701",
     "exception": false,
     "start_time": "2021-08-04T01:40:16.161980",
     "status": "completed"
    },
    "tags": []
   },
   "source": [
    "# Keep Going\n",
    "\n",
    "Nice job with the code. Next up, you'll learn about *conditionals*, which you'll need to **[write interesting programs](https://www.kaggle.com/colinmorris/booleans-and-conditionals)**. "
   ]
  },
  {
   "cell_type": "markdown",
   "id": "9d248adf",
   "metadata": {
    "papermill": {
     "duration": 0.018218,
     "end_time": "2021-08-04T01:40:16.219441",
     "exception": false,
     "start_time": "2021-08-04T01:40:16.201223",
     "status": "completed"
    },
    "tags": []
   },
   "source": [
    "---\n",
    "\n",
    "\n",
    "\n",
    "\n",
    "*Have questions or comments? Visit the [Learn Discussion forum](https://www.kaggle.com/learn-forum/161283) to chat with other Learners.*"
   ]
  }
 ],
 "metadata": {
  "kernelspec": {
   "display_name": "Python 3",
   "language": "python",
   "name": "python3"
  },
  "language_info": {
   "codemirror_mode": {
    "name": "ipython",
    "version": 3
   },
   "file_extension": ".py",
   "mimetype": "text/x-python",
   "name": "python",
   "nbconvert_exporter": "python",
   "pygments_lexer": "ipython3",
   "version": "3.7.10"
  },
  "papermill": {
   "default_parameters": {},
   "duration": 11.97209,
   "end_time": "2021-08-04T01:40:17.505196",
   "environment_variables": {},
   "exception": null,
   "input_path": "__notebook__.ipynb",
   "output_path": "__notebook__.ipynb",
   "parameters": {},
   "start_time": "2021-08-04T01:40:05.533106",
   "version": "2.3.3"
  }
 },
 "nbformat": 4,
 "nbformat_minor": 5
}
